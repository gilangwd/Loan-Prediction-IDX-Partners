{
 "cells": [
  {
   "cell_type": "markdown",
   "metadata": {},
   "source": [
    "# 1 - Introduction"
   ]
  },
  {
   "cell_type": "markdown",
   "metadata": {},
   "source": [
    "Data Scientist Final Project - id/x Partners\n",
    "\n",
    "Name : Gilang Wiradhyaksa\n",
    "\n",
    "Data : [Loan Dataset](https://rakamin-lms.s3.ap-southeast-1.amazonaws.com/vix-assets/idx-partners/loan_data_2007_2014.csv)"
   ]
  },
  {
   "cell_type": "markdown",
   "metadata": {},
   "source": [
    "# 2 - Import Libraries"
   ]
  },
  {
   "cell_type": "code",
   "execution_count": 337,
   "metadata": {},
   "outputs": [],
   "source": [
    "import pandas as pd\n",
    "import numpy as np\n",
    "from scipy import stats\n",
    "import matplotlib.pyplot as plt\n",
    "import seaborn as sns\n",
    "\n",
    "from sklearn.model_selection import train_test_split\n",
    "from sklearn.linear_model import LogisticRegression\n",
    "from sklearn.neighbors import KNeighborsClassifier\n",
    "from sklearn.ensemble import RandomForestClassifier\n",
    "from sklearn.svm import SVC\n",
    "from sklearn.metrics import classification_report, precision_score, confusion_matrix, ConfusionMatrixDisplay\n",
    "from sklearn.preprocessing import MinMaxScaler, OrdinalEncoder, OneHotEncoder\n",
    "from sklearn.model_selection import cross_val_score, GridSearchCV #, RandomizedSearchCV\n",
    "import pickle\n",
    "\n",
    "import warnings\n",
    "warnings.filterwarnings('ignore')"
   ]
  },
  {
   "cell_type": "markdown",
   "metadata": {},
   "source": [
    "# 3 - Data Loading"
   ]
  },
  {
   "cell_type": "code",
   "execution_count": 338,
   "metadata": {},
   "outputs": [],
   "source": [
    "# Original Data\n",
    "df_ori = pd.read_csv('loan_data_2007_2014.csv', index_col=0)"
   ]
  },
  {
   "cell_type": "code",
   "execution_count": 339,
   "metadata": {},
   "outputs": [
    {
     "data": {
      "text/html": [
       "<div>\n",
       "<style scoped>\n",
       "    .dataframe tbody tr th:only-of-type {\n",
       "        vertical-align: middle;\n",
       "    }\n",
       "\n",
       "    .dataframe tbody tr th {\n",
       "        vertical-align: top;\n",
       "    }\n",
       "\n",
       "    .dataframe thead th {\n",
       "        text-align: right;\n",
       "    }\n",
       "</style>\n",
       "<table border=\"1\" class=\"dataframe\">\n",
       "  <thead>\n",
       "    <tr style=\"text-align: right;\">\n",
       "      <th></th>\n",
       "      <th>id</th>\n",
       "      <th>member_id</th>\n",
       "      <th>loan_amnt</th>\n",
       "      <th>funded_amnt</th>\n",
       "      <th>funded_amnt_inv</th>\n",
       "      <th>term</th>\n",
       "      <th>int_rate</th>\n",
       "      <th>installment</th>\n",
       "      <th>grade</th>\n",
       "      <th>sub_grade</th>\n",
       "      <th>...</th>\n",
       "      <th>total_bal_il</th>\n",
       "      <th>il_util</th>\n",
       "      <th>open_rv_12m</th>\n",
       "      <th>open_rv_24m</th>\n",
       "      <th>max_bal_bc</th>\n",
       "      <th>all_util</th>\n",
       "      <th>total_rev_hi_lim</th>\n",
       "      <th>inq_fi</th>\n",
       "      <th>total_cu_tl</th>\n",
       "      <th>inq_last_12m</th>\n",
       "    </tr>\n",
       "  </thead>\n",
       "  <tbody>\n",
       "    <tr>\n",
       "      <th>0</th>\n",
       "      <td>1077501</td>\n",
       "      <td>1296599</td>\n",
       "      <td>5000</td>\n",
       "      <td>5000</td>\n",
       "      <td>4975.0</td>\n",
       "      <td>36 months</td>\n",
       "      <td>10.65</td>\n",
       "      <td>162.87</td>\n",
       "      <td>B</td>\n",
       "      <td>B2</td>\n",
       "      <td>...</td>\n",
       "      <td>NaN</td>\n",
       "      <td>NaN</td>\n",
       "      <td>NaN</td>\n",
       "      <td>NaN</td>\n",
       "      <td>NaN</td>\n",
       "      <td>NaN</td>\n",
       "      <td>NaN</td>\n",
       "      <td>NaN</td>\n",
       "      <td>NaN</td>\n",
       "      <td>NaN</td>\n",
       "    </tr>\n",
       "    <tr>\n",
       "      <th>1</th>\n",
       "      <td>1077430</td>\n",
       "      <td>1314167</td>\n",
       "      <td>2500</td>\n",
       "      <td>2500</td>\n",
       "      <td>2500.0</td>\n",
       "      <td>60 months</td>\n",
       "      <td>15.27</td>\n",
       "      <td>59.83</td>\n",
       "      <td>C</td>\n",
       "      <td>C4</td>\n",
       "      <td>...</td>\n",
       "      <td>NaN</td>\n",
       "      <td>NaN</td>\n",
       "      <td>NaN</td>\n",
       "      <td>NaN</td>\n",
       "      <td>NaN</td>\n",
       "      <td>NaN</td>\n",
       "      <td>NaN</td>\n",
       "      <td>NaN</td>\n",
       "      <td>NaN</td>\n",
       "      <td>NaN</td>\n",
       "    </tr>\n",
       "    <tr>\n",
       "      <th>2</th>\n",
       "      <td>1077175</td>\n",
       "      <td>1313524</td>\n",
       "      <td>2400</td>\n",
       "      <td>2400</td>\n",
       "      <td>2400.0</td>\n",
       "      <td>36 months</td>\n",
       "      <td>15.96</td>\n",
       "      <td>84.33</td>\n",
       "      <td>C</td>\n",
       "      <td>C5</td>\n",
       "      <td>...</td>\n",
       "      <td>NaN</td>\n",
       "      <td>NaN</td>\n",
       "      <td>NaN</td>\n",
       "      <td>NaN</td>\n",
       "      <td>NaN</td>\n",
       "      <td>NaN</td>\n",
       "      <td>NaN</td>\n",
       "      <td>NaN</td>\n",
       "      <td>NaN</td>\n",
       "      <td>NaN</td>\n",
       "    </tr>\n",
       "    <tr>\n",
       "      <th>3</th>\n",
       "      <td>1076863</td>\n",
       "      <td>1277178</td>\n",
       "      <td>10000</td>\n",
       "      <td>10000</td>\n",
       "      <td>10000.0</td>\n",
       "      <td>36 months</td>\n",
       "      <td>13.49</td>\n",
       "      <td>339.31</td>\n",
       "      <td>C</td>\n",
       "      <td>C1</td>\n",
       "      <td>...</td>\n",
       "      <td>NaN</td>\n",
       "      <td>NaN</td>\n",
       "      <td>NaN</td>\n",
       "      <td>NaN</td>\n",
       "      <td>NaN</td>\n",
       "      <td>NaN</td>\n",
       "      <td>NaN</td>\n",
       "      <td>NaN</td>\n",
       "      <td>NaN</td>\n",
       "      <td>NaN</td>\n",
       "    </tr>\n",
       "    <tr>\n",
       "      <th>4</th>\n",
       "      <td>1075358</td>\n",
       "      <td>1311748</td>\n",
       "      <td>3000</td>\n",
       "      <td>3000</td>\n",
       "      <td>3000.0</td>\n",
       "      <td>60 months</td>\n",
       "      <td>12.69</td>\n",
       "      <td>67.79</td>\n",
       "      <td>B</td>\n",
       "      <td>B5</td>\n",
       "      <td>...</td>\n",
       "      <td>NaN</td>\n",
       "      <td>NaN</td>\n",
       "      <td>NaN</td>\n",
       "      <td>NaN</td>\n",
       "      <td>NaN</td>\n",
       "      <td>NaN</td>\n",
       "      <td>NaN</td>\n",
       "      <td>NaN</td>\n",
       "      <td>NaN</td>\n",
       "      <td>NaN</td>\n",
       "    </tr>\n",
       "    <tr>\n",
       "      <th>...</th>\n",
       "      <td>...</td>\n",
       "      <td>...</td>\n",
       "      <td>...</td>\n",
       "      <td>...</td>\n",
       "      <td>...</td>\n",
       "      <td>...</td>\n",
       "      <td>...</td>\n",
       "      <td>...</td>\n",
       "      <td>...</td>\n",
       "      <td>...</td>\n",
       "      <td>...</td>\n",
       "      <td>...</td>\n",
       "      <td>...</td>\n",
       "      <td>...</td>\n",
       "      <td>...</td>\n",
       "      <td>...</td>\n",
       "      <td>...</td>\n",
       "      <td>...</td>\n",
       "      <td>...</td>\n",
       "      <td>...</td>\n",
       "      <td>...</td>\n",
       "    </tr>\n",
       "    <tr>\n",
       "      <th>466280</th>\n",
       "      <td>8598660</td>\n",
       "      <td>1440975</td>\n",
       "      <td>18400</td>\n",
       "      <td>18400</td>\n",
       "      <td>18400.0</td>\n",
       "      <td>60 months</td>\n",
       "      <td>14.47</td>\n",
       "      <td>432.64</td>\n",
       "      <td>C</td>\n",
       "      <td>C2</td>\n",
       "      <td>...</td>\n",
       "      <td>NaN</td>\n",
       "      <td>NaN</td>\n",
       "      <td>NaN</td>\n",
       "      <td>NaN</td>\n",
       "      <td>NaN</td>\n",
       "      <td>NaN</td>\n",
       "      <td>29900.0</td>\n",
       "      <td>NaN</td>\n",
       "      <td>NaN</td>\n",
       "      <td>NaN</td>\n",
       "    </tr>\n",
       "    <tr>\n",
       "      <th>466281</th>\n",
       "      <td>9684700</td>\n",
       "      <td>11536848</td>\n",
       "      <td>22000</td>\n",
       "      <td>22000</td>\n",
       "      <td>22000.0</td>\n",
       "      <td>60 months</td>\n",
       "      <td>19.97</td>\n",
       "      <td>582.50</td>\n",
       "      <td>D</td>\n",
       "      <td>D5</td>\n",
       "      <td>...</td>\n",
       "      <td>NaN</td>\n",
       "      <td>NaN</td>\n",
       "      <td>NaN</td>\n",
       "      <td>NaN</td>\n",
       "      <td>NaN</td>\n",
       "      <td>NaN</td>\n",
       "      <td>39400.0</td>\n",
       "      <td>NaN</td>\n",
       "      <td>NaN</td>\n",
       "      <td>NaN</td>\n",
       "    </tr>\n",
       "    <tr>\n",
       "      <th>466282</th>\n",
       "      <td>9584776</td>\n",
       "      <td>11436914</td>\n",
       "      <td>20700</td>\n",
       "      <td>20700</td>\n",
       "      <td>20700.0</td>\n",
       "      <td>60 months</td>\n",
       "      <td>16.99</td>\n",
       "      <td>514.34</td>\n",
       "      <td>D</td>\n",
       "      <td>D1</td>\n",
       "      <td>...</td>\n",
       "      <td>NaN</td>\n",
       "      <td>NaN</td>\n",
       "      <td>NaN</td>\n",
       "      <td>NaN</td>\n",
       "      <td>NaN</td>\n",
       "      <td>NaN</td>\n",
       "      <td>13100.0</td>\n",
       "      <td>NaN</td>\n",
       "      <td>NaN</td>\n",
       "      <td>NaN</td>\n",
       "    </tr>\n",
       "    <tr>\n",
       "      <th>466283</th>\n",
       "      <td>9604874</td>\n",
       "      <td>11457002</td>\n",
       "      <td>2000</td>\n",
       "      <td>2000</td>\n",
       "      <td>2000.0</td>\n",
       "      <td>36 months</td>\n",
       "      <td>7.90</td>\n",
       "      <td>62.59</td>\n",
       "      <td>A</td>\n",
       "      <td>A4</td>\n",
       "      <td>...</td>\n",
       "      <td>NaN</td>\n",
       "      <td>NaN</td>\n",
       "      <td>NaN</td>\n",
       "      <td>NaN</td>\n",
       "      <td>NaN</td>\n",
       "      <td>NaN</td>\n",
       "      <td>53100.0</td>\n",
       "      <td>NaN</td>\n",
       "      <td>NaN</td>\n",
       "      <td>NaN</td>\n",
       "    </tr>\n",
       "    <tr>\n",
       "      <th>466284</th>\n",
       "      <td>9199665</td>\n",
       "      <td>11061576</td>\n",
       "      <td>10000</td>\n",
       "      <td>10000</td>\n",
       "      <td>9975.0</td>\n",
       "      <td>36 months</td>\n",
       "      <td>19.20</td>\n",
       "      <td>367.58</td>\n",
       "      <td>D</td>\n",
       "      <td>D3</td>\n",
       "      <td>...</td>\n",
       "      <td>NaN</td>\n",
       "      <td>NaN</td>\n",
       "      <td>NaN</td>\n",
       "      <td>NaN</td>\n",
       "      <td>NaN</td>\n",
       "      <td>NaN</td>\n",
       "      <td>16000.0</td>\n",
       "      <td>NaN</td>\n",
       "      <td>NaN</td>\n",
       "      <td>NaN</td>\n",
       "    </tr>\n",
       "  </tbody>\n",
       "</table>\n",
       "<p>466285 rows × 74 columns</p>\n",
       "</div>"
      ],
      "text/plain": [
       "             id  member_id  loan_amnt  funded_amnt  funded_amnt_inv  \\\n",
       "0       1077501    1296599       5000         5000           4975.0   \n",
       "1       1077430    1314167       2500         2500           2500.0   \n",
       "2       1077175    1313524       2400         2400           2400.0   \n",
       "3       1076863    1277178      10000        10000          10000.0   \n",
       "4       1075358    1311748       3000         3000           3000.0   \n",
       "...         ...        ...        ...          ...              ...   \n",
       "466280  8598660    1440975      18400        18400          18400.0   \n",
       "466281  9684700   11536848      22000        22000          22000.0   \n",
       "466282  9584776   11436914      20700        20700          20700.0   \n",
       "466283  9604874   11457002       2000         2000           2000.0   \n",
       "466284  9199665   11061576      10000        10000           9975.0   \n",
       "\n",
       "              term  int_rate  installment grade sub_grade  ... total_bal_il  \\\n",
       "0        36 months     10.65       162.87     B        B2  ...          NaN   \n",
       "1        60 months     15.27        59.83     C        C4  ...          NaN   \n",
       "2        36 months     15.96        84.33     C        C5  ...          NaN   \n",
       "3        36 months     13.49       339.31     C        C1  ...          NaN   \n",
       "4        60 months     12.69        67.79     B        B5  ...          NaN   \n",
       "...            ...       ...          ...   ...       ...  ...          ...   \n",
       "466280   60 months     14.47       432.64     C        C2  ...          NaN   \n",
       "466281   60 months     19.97       582.50     D        D5  ...          NaN   \n",
       "466282   60 months     16.99       514.34     D        D1  ...          NaN   \n",
       "466283   36 months      7.90        62.59     A        A4  ...          NaN   \n",
       "466284   36 months     19.20       367.58     D        D3  ...          NaN   \n",
       "\n",
       "       il_util open_rv_12m  open_rv_24m max_bal_bc all_util total_rev_hi_lim  \\\n",
       "0          NaN         NaN          NaN        NaN      NaN              NaN   \n",
       "1          NaN         NaN          NaN        NaN      NaN              NaN   \n",
       "2          NaN         NaN          NaN        NaN      NaN              NaN   \n",
       "3          NaN         NaN          NaN        NaN      NaN              NaN   \n",
       "4          NaN         NaN          NaN        NaN      NaN              NaN   \n",
       "...        ...         ...          ...        ...      ...              ...   \n",
       "466280     NaN         NaN          NaN        NaN      NaN          29900.0   \n",
       "466281     NaN         NaN          NaN        NaN      NaN          39400.0   \n",
       "466282     NaN         NaN          NaN        NaN      NaN          13100.0   \n",
       "466283     NaN         NaN          NaN        NaN      NaN          53100.0   \n",
       "466284     NaN         NaN          NaN        NaN      NaN          16000.0   \n",
       "\n",
       "       inq_fi total_cu_tl inq_last_12m  \n",
       "0         NaN         NaN          NaN  \n",
       "1         NaN         NaN          NaN  \n",
       "2         NaN         NaN          NaN  \n",
       "3         NaN         NaN          NaN  \n",
       "4         NaN         NaN          NaN  \n",
       "...       ...         ...          ...  \n",
       "466280    NaN         NaN          NaN  \n",
       "466281    NaN         NaN          NaN  \n",
       "466282    NaN         NaN          NaN  \n",
       "466283    NaN         NaN          NaN  \n",
       "466284    NaN         NaN          NaN  \n",
       "\n",
       "[466285 rows x 74 columns]"
      ]
     },
     "execution_count": 339,
     "metadata": {},
     "output_type": "execute_result"
    }
   ],
   "source": [
    "df = df_ori.copy()\n",
    "df"
   ]
  },
  {
   "cell_type": "code",
   "execution_count": 340,
   "metadata": {},
   "outputs": [
    {
     "name": "stdout",
     "output_type": "stream",
     "text": [
      "<class 'pandas.core.frame.DataFrame'>\n",
      "Index: 466285 entries, 0 to 466284\n",
      "Data columns (total 74 columns):\n",
      " #   Column                       Non-Null Count   Dtype  \n",
      "---  ------                       --------------   -----  \n",
      " 0   id                           466285 non-null  int64  \n",
      " 1   member_id                    466285 non-null  int64  \n",
      " 2   loan_amnt                    466285 non-null  int64  \n",
      " 3   funded_amnt                  466285 non-null  int64  \n",
      " 4   funded_amnt_inv              466285 non-null  float64\n",
      " 5   term                         466285 non-null  object \n",
      " 6   int_rate                     466285 non-null  float64\n",
      " 7   installment                  466285 non-null  float64\n",
      " 8   grade                        466285 non-null  object \n",
      " 9   sub_grade                    466285 non-null  object \n",
      " 10  emp_title                    438697 non-null  object \n",
      " 11  emp_length                   445277 non-null  object \n",
      " 12  home_ownership               466285 non-null  object \n",
      " 13  annual_inc                   466281 non-null  float64\n",
      " 14  verification_status          466285 non-null  object \n",
      " 15  issue_d                      466285 non-null  object \n",
      " 16  loan_status                  466285 non-null  object \n",
      " 17  pymnt_plan                   466285 non-null  object \n",
      " 18  url                          466285 non-null  object \n",
      " 19  desc                         125981 non-null  object \n",
      " 20  purpose                      466285 non-null  object \n",
      " 21  title                        466264 non-null  object \n",
      " 22  zip_code                     466285 non-null  object \n",
      " 23  addr_state                   466285 non-null  object \n",
      " 24  dti                          466285 non-null  float64\n",
      " 25  delinq_2yrs                  466256 non-null  float64\n",
      " 26  earliest_cr_line             466256 non-null  object \n",
      " 27  inq_last_6mths               466256 non-null  float64\n",
      " 28  mths_since_last_delinq       215934 non-null  float64\n",
      " 29  mths_since_last_record       62638 non-null   float64\n",
      " 30  open_acc                     466256 non-null  float64\n",
      " 31  pub_rec                      466256 non-null  float64\n",
      " 32  revol_bal                    466285 non-null  int64  \n",
      " 33  revol_util                   465945 non-null  float64\n",
      " 34  total_acc                    466256 non-null  float64\n",
      " 35  initial_list_status          466285 non-null  object \n",
      " 36  out_prncp                    466285 non-null  float64\n",
      " 37  out_prncp_inv                466285 non-null  float64\n",
      " 38  total_pymnt                  466285 non-null  float64\n",
      " 39  total_pymnt_inv              466285 non-null  float64\n",
      " 40  total_rec_prncp              466285 non-null  float64\n",
      " 41  total_rec_int                466285 non-null  float64\n",
      " 42  total_rec_late_fee           466285 non-null  float64\n",
      " 43  recoveries                   466285 non-null  float64\n",
      " 44  collection_recovery_fee      466285 non-null  float64\n",
      " 45  last_pymnt_d                 465909 non-null  object \n",
      " 46  last_pymnt_amnt              466285 non-null  float64\n",
      " 47  next_pymnt_d                 239071 non-null  object \n",
      " 48  last_credit_pull_d           466243 non-null  object \n",
      " 49  collections_12_mths_ex_med   466140 non-null  float64\n",
      " 50  mths_since_last_major_derog  98974 non-null   float64\n",
      " 51  policy_code                  466285 non-null  int64  \n",
      " 52  application_type             466285 non-null  object \n",
      " 53  annual_inc_joint             0 non-null       float64\n",
      " 54  dti_joint                    0 non-null       float64\n",
      " 55  verification_status_joint    0 non-null       float64\n",
      " 56  acc_now_delinq               466256 non-null  float64\n",
      " 57  tot_coll_amt                 396009 non-null  float64\n",
      " 58  tot_cur_bal                  396009 non-null  float64\n",
      " 59  open_acc_6m                  0 non-null       float64\n",
      " 60  open_il_6m                   0 non-null       float64\n",
      " 61  open_il_12m                  0 non-null       float64\n",
      " 62  open_il_24m                  0 non-null       float64\n",
      " 63  mths_since_rcnt_il           0 non-null       float64\n",
      " 64  total_bal_il                 0 non-null       float64\n",
      " 65  il_util                      0 non-null       float64\n",
      " 66  open_rv_12m                  0 non-null       float64\n",
      " 67  open_rv_24m                  0 non-null       float64\n",
      " 68  max_bal_bc                   0 non-null       float64\n",
      " 69  all_util                     0 non-null       float64\n",
      " 70  total_rev_hi_lim             396009 non-null  float64\n",
      " 71  inq_fi                       0 non-null       float64\n",
      " 72  total_cu_tl                  0 non-null       float64\n",
      " 73  inq_last_12m                 0 non-null       float64\n",
      "dtypes: float64(46), int64(6), object(22)\n",
      "memory usage: 266.8+ MB\n"
     ]
    }
   ],
   "source": [
    "df.info()"
   ]
  },
  {
   "cell_type": "code",
   "execution_count": 341,
   "metadata": {},
   "outputs": [
    {
     "data": {
      "text/html": [
       "<div>\n",
       "<style scoped>\n",
       "    .dataframe tbody tr th:only-of-type {\n",
       "        vertical-align: middle;\n",
       "    }\n",
       "\n",
       "    .dataframe tbody tr th {\n",
       "        vertical-align: top;\n",
       "    }\n",
       "\n",
       "    .dataframe thead th {\n",
       "        text-align: right;\n",
       "    }\n",
       "</style>\n",
       "<table border=\"1\" class=\"dataframe\">\n",
       "  <thead>\n",
       "    <tr style=\"text-align: right;\">\n",
       "      <th></th>\n",
       "      <th>id</th>\n",
       "      <th>member_id</th>\n",
       "      <th>loan_amnt</th>\n",
       "      <th>funded_amnt</th>\n",
       "      <th>funded_amnt_inv</th>\n",
       "      <th>int_rate</th>\n",
       "      <th>installment</th>\n",
       "      <th>annual_inc</th>\n",
       "      <th>dti</th>\n",
       "      <th>delinq_2yrs</th>\n",
       "      <th>...</th>\n",
       "      <th>total_bal_il</th>\n",
       "      <th>il_util</th>\n",
       "      <th>open_rv_12m</th>\n",
       "      <th>open_rv_24m</th>\n",
       "      <th>max_bal_bc</th>\n",
       "      <th>all_util</th>\n",
       "      <th>total_rev_hi_lim</th>\n",
       "      <th>inq_fi</th>\n",
       "      <th>total_cu_tl</th>\n",
       "      <th>inq_last_12m</th>\n",
       "    </tr>\n",
       "  </thead>\n",
       "  <tbody>\n",
       "    <tr>\n",
       "      <th>count</th>\n",
       "      <td>4.662850e+05</td>\n",
       "      <td>4.662850e+05</td>\n",
       "      <td>466285.000000</td>\n",
       "      <td>466285.000000</td>\n",
       "      <td>466285.000000</td>\n",
       "      <td>466285.000000</td>\n",
       "      <td>466285.000000</td>\n",
       "      <td>4.662810e+05</td>\n",
       "      <td>466285.000000</td>\n",
       "      <td>466256.000000</td>\n",
       "      <td>...</td>\n",
       "      <td>0.0</td>\n",
       "      <td>0.0</td>\n",
       "      <td>0.0</td>\n",
       "      <td>0.0</td>\n",
       "      <td>0.0</td>\n",
       "      <td>0.0</td>\n",
       "      <td>3.960090e+05</td>\n",
       "      <td>0.0</td>\n",
       "      <td>0.0</td>\n",
       "      <td>0.0</td>\n",
       "    </tr>\n",
       "    <tr>\n",
       "      <th>mean</th>\n",
       "      <td>1.307973e+07</td>\n",
       "      <td>1.459766e+07</td>\n",
       "      <td>14317.277577</td>\n",
       "      <td>14291.801044</td>\n",
       "      <td>14222.329888</td>\n",
       "      <td>13.829236</td>\n",
       "      <td>432.061201</td>\n",
       "      <td>7.327738e+04</td>\n",
       "      <td>17.218758</td>\n",
       "      <td>0.284678</td>\n",
       "      <td>...</td>\n",
       "      <td>NaN</td>\n",
       "      <td>NaN</td>\n",
       "      <td>NaN</td>\n",
       "      <td>NaN</td>\n",
       "      <td>NaN</td>\n",
       "      <td>NaN</td>\n",
       "      <td>3.037909e+04</td>\n",
       "      <td>NaN</td>\n",
       "      <td>NaN</td>\n",
       "      <td>NaN</td>\n",
       "    </tr>\n",
       "    <tr>\n",
       "      <th>std</th>\n",
       "      <td>1.089371e+07</td>\n",
       "      <td>1.168237e+07</td>\n",
       "      <td>8286.509164</td>\n",
       "      <td>8274.371300</td>\n",
       "      <td>8297.637788</td>\n",
       "      <td>4.357587</td>\n",
       "      <td>243.485550</td>\n",
       "      <td>5.496357e+04</td>\n",
       "      <td>7.851121</td>\n",
       "      <td>0.797365</td>\n",
       "      <td>...</td>\n",
       "      <td>NaN</td>\n",
       "      <td>NaN</td>\n",
       "      <td>NaN</td>\n",
       "      <td>NaN</td>\n",
       "      <td>NaN</td>\n",
       "      <td>NaN</td>\n",
       "      <td>3.724713e+04</td>\n",
       "      <td>NaN</td>\n",
       "      <td>NaN</td>\n",
       "      <td>NaN</td>\n",
       "    </tr>\n",
       "    <tr>\n",
       "      <th>min</th>\n",
       "      <td>5.473400e+04</td>\n",
       "      <td>7.047300e+04</td>\n",
       "      <td>500.000000</td>\n",
       "      <td>500.000000</td>\n",
       "      <td>0.000000</td>\n",
       "      <td>5.420000</td>\n",
       "      <td>15.670000</td>\n",
       "      <td>1.896000e+03</td>\n",
       "      <td>0.000000</td>\n",
       "      <td>0.000000</td>\n",
       "      <td>...</td>\n",
       "      <td>NaN</td>\n",
       "      <td>NaN</td>\n",
       "      <td>NaN</td>\n",
       "      <td>NaN</td>\n",
       "      <td>NaN</td>\n",
       "      <td>NaN</td>\n",
       "      <td>0.000000e+00</td>\n",
       "      <td>NaN</td>\n",
       "      <td>NaN</td>\n",
       "      <td>NaN</td>\n",
       "    </tr>\n",
       "    <tr>\n",
       "      <th>25%</th>\n",
       "      <td>3.639987e+06</td>\n",
       "      <td>4.379705e+06</td>\n",
       "      <td>8000.000000</td>\n",
       "      <td>8000.000000</td>\n",
       "      <td>8000.000000</td>\n",
       "      <td>10.990000</td>\n",
       "      <td>256.690000</td>\n",
       "      <td>4.500000e+04</td>\n",
       "      <td>11.360000</td>\n",
       "      <td>0.000000</td>\n",
       "      <td>...</td>\n",
       "      <td>NaN</td>\n",
       "      <td>NaN</td>\n",
       "      <td>NaN</td>\n",
       "      <td>NaN</td>\n",
       "      <td>NaN</td>\n",
       "      <td>NaN</td>\n",
       "      <td>1.350000e+04</td>\n",
       "      <td>NaN</td>\n",
       "      <td>NaN</td>\n",
       "      <td>NaN</td>\n",
       "    </tr>\n",
       "    <tr>\n",
       "      <th>50%</th>\n",
       "      <td>1.010790e+07</td>\n",
       "      <td>1.194108e+07</td>\n",
       "      <td>12000.000000</td>\n",
       "      <td>12000.000000</td>\n",
       "      <td>12000.000000</td>\n",
       "      <td>13.660000</td>\n",
       "      <td>379.890000</td>\n",
       "      <td>6.300000e+04</td>\n",
       "      <td>16.870000</td>\n",
       "      <td>0.000000</td>\n",
       "      <td>...</td>\n",
       "      <td>NaN</td>\n",
       "      <td>NaN</td>\n",
       "      <td>NaN</td>\n",
       "      <td>NaN</td>\n",
       "      <td>NaN</td>\n",
       "      <td>NaN</td>\n",
       "      <td>2.280000e+04</td>\n",
       "      <td>NaN</td>\n",
       "      <td>NaN</td>\n",
       "      <td>NaN</td>\n",
       "    </tr>\n",
       "    <tr>\n",
       "      <th>75%</th>\n",
       "      <td>2.073121e+07</td>\n",
       "      <td>2.300154e+07</td>\n",
       "      <td>20000.000000</td>\n",
       "      <td>20000.000000</td>\n",
       "      <td>19950.000000</td>\n",
       "      <td>16.490000</td>\n",
       "      <td>566.580000</td>\n",
       "      <td>8.896000e+04</td>\n",
       "      <td>22.780000</td>\n",
       "      <td>0.000000</td>\n",
       "      <td>...</td>\n",
       "      <td>NaN</td>\n",
       "      <td>NaN</td>\n",
       "      <td>NaN</td>\n",
       "      <td>NaN</td>\n",
       "      <td>NaN</td>\n",
       "      <td>NaN</td>\n",
       "      <td>3.790000e+04</td>\n",
       "      <td>NaN</td>\n",
       "      <td>NaN</td>\n",
       "      <td>NaN</td>\n",
       "    </tr>\n",
       "    <tr>\n",
       "      <th>max</th>\n",
       "      <td>3.809811e+07</td>\n",
       "      <td>4.086083e+07</td>\n",
       "      <td>35000.000000</td>\n",
       "      <td>35000.000000</td>\n",
       "      <td>35000.000000</td>\n",
       "      <td>26.060000</td>\n",
       "      <td>1409.990000</td>\n",
       "      <td>7.500000e+06</td>\n",
       "      <td>39.990000</td>\n",
       "      <td>29.000000</td>\n",
       "      <td>...</td>\n",
       "      <td>NaN</td>\n",
       "      <td>NaN</td>\n",
       "      <td>NaN</td>\n",
       "      <td>NaN</td>\n",
       "      <td>NaN</td>\n",
       "      <td>NaN</td>\n",
       "      <td>9.999999e+06</td>\n",
       "      <td>NaN</td>\n",
       "      <td>NaN</td>\n",
       "      <td>NaN</td>\n",
       "    </tr>\n",
       "  </tbody>\n",
       "</table>\n",
       "<p>8 rows × 52 columns</p>\n",
       "</div>"
      ],
      "text/plain": [
       "                 id     member_id      loan_amnt    funded_amnt  \\\n",
       "count  4.662850e+05  4.662850e+05  466285.000000  466285.000000   \n",
       "mean   1.307973e+07  1.459766e+07   14317.277577   14291.801044   \n",
       "std    1.089371e+07  1.168237e+07    8286.509164    8274.371300   \n",
       "min    5.473400e+04  7.047300e+04     500.000000     500.000000   \n",
       "25%    3.639987e+06  4.379705e+06    8000.000000    8000.000000   \n",
       "50%    1.010790e+07  1.194108e+07   12000.000000   12000.000000   \n",
       "75%    2.073121e+07  2.300154e+07   20000.000000   20000.000000   \n",
       "max    3.809811e+07  4.086083e+07   35000.000000   35000.000000   \n",
       "\n",
       "       funded_amnt_inv       int_rate    installment    annual_inc  \\\n",
       "count    466285.000000  466285.000000  466285.000000  4.662810e+05   \n",
       "mean      14222.329888      13.829236     432.061201  7.327738e+04   \n",
       "std        8297.637788       4.357587     243.485550  5.496357e+04   \n",
       "min           0.000000       5.420000      15.670000  1.896000e+03   \n",
       "25%        8000.000000      10.990000     256.690000  4.500000e+04   \n",
       "50%       12000.000000      13.660000     379.890000  6.300000e+04   \n",
       "75%       19950.000000      16.490000     566.580000  8.896000e+04   \n",
       "max       35000.000000      26.060000    1409.990000  7.500000e+06   \n",
       "\n",
       "                 dti    delinq_2yrs  ...  total_bal_il  il_util  open_rv_12m  \\\n",
       "count  466285.000000  466256.000000  ...           0.0      0.0          0.0   \n",
       "mean       17.218758       0.284678  ...           NaN      NaN          NaN   \n",
       "std         7.851121       0.797365  ...           NaN      NaN          NaN   \n",
       "min         0.000000       0.000000  ...           NaN      NaN          NaN   \n",
       "25%        11.360000       0.000000  ...           NaN      NaN          NaN   \n",
       "50%        16.870000       0.000000  ...           NaN      NaN          NaN   \n",
       "75%        22.780000       0.000000  ...           NaN      NaN          NaN   \n",
       "max        39.990000      29.000000  ...           NaN      NaN          NaN   \n",
       "\n",
       "       open_rv_24m  max_bal_bc  all_util  total_rev_hi_lim  inq_fi  \\\n",
       "count          0.0         0.0       0.0      3.960090e+05     0.0   \n",
       "mean           NaN         NaN       NaN      3.037909e+04     NaN   \n",
       "std            NaN         NaN       NaN      3.724713e+04     NaN   \n",
       "min            NaN         NaN       NaN      0.000000e+00     NaN   \n",
       "25%            NaN         NaN       NaN      1.350000e+04     NaN   \n",
       "50%            NaN         NaN       NaN      2.280000e+04     NaN   \n",
       "75%            NaN         NaN       NaN      3.790000e+04     NaN   \n",
       "max            NaN         NaN       NaN      9.999999e+06     NaN   \n",
       "\n",
       "       total_cu_tl  inq_last_12m  \n",
       "count          0.0           0.0  \n",
       "mean           NaN           NaN  \n",
       "std            NaN           NaN  \n",
       "min            NaN           NaN  \n",
       "25%            NaN           NaN  \n",
       "50%            NaN           NaN  \n",
       "75%            NaN           NaN  \n",
       "max            NaN           NaN  \n",
       "\n",
       "[8 rows x 52 columns]"
      ]
     },
     "execution_count": 341,
     "metadata": {},
     "output_type": "execute_result"
    }
   ],
   "source": [
    "df.describe()"
   ]
  },
  {
   "cell_type": "code",
   "execution_count": 342,
   "metadata": {},
   "outputs": [
    {
     "data": {
      "text/plain": [
       "Index(['id', 'member_id', 'loan_amnt', 'funded_amnt', 'funded_amnt_inv',\n",
       "       'term', 'int_rate', 'installment', 'grade', 'sub_grade', 'emp_title',\n",
       "       'emp_length', 'home_ownership', 'annual_inc', 'verification_status',\n",
       "       'issue_d', 'loan_status', 'pymnt_plan', 'url', 'desc', 'purpose',\n",
       "       'title', 'zip_code', 'addr_state', 'dti', 'delinq_2yrs',\n",
       "       'earliest_cr_line', 'inq_last_6mths', 'mths_since_last_delinq',\n",
       "       'mths_since_last_record', 'open_acc', 'pub_rec', 'revol_bal',\n",
       "       'revol_util', 'total_acc', 'initial_list_status', 'out_prncp',\n",
       "       'out_prncp_inv', 'total_pymnt', 'total_pymnt_inv', 'total_rec_prncp',\n",
       "       'total_rec_int', 'total_rec_late_fee', 'recoveries',\n",
       "       'collection_recovery_fee', 'last_pymnt_d', 'last_pymnt_amnt',\n",
       "       'next_pymnt_d', 'last_credit_pull_d', 'collections_12_mths_ex_med',\n",
       "       'mths_since_last_major_derog', 'policy_code', 'application_type',\n",
       "       'annual_inc_joint', 'dti_joint', 'verification_status_joint',\n",
       "       'acc_now_delinq', 'tot_coll_amt', 'tot_cur_bal', 'open_acc_6m',\n",
       "       'open_il_6m', 'open_il_12m', 'open_il_24m', 'mths_since_rcnt_il',\n",
       "       'total_bal_il', 'il_util', 'open_rv_12m', 'open_rv_24m', 'max_bal_bc',\n",
       "       'all_util', 'total_rev_hi_lim', 'inq_fi', 'total_cu_tl',\n",
       "       'inq_last_12m'],\n",
       "      dtype='object')"
      ]
     },
     "execution_count": 342,
     "metadata": {},
     "output_type": "execute_result"
    }
   ],
   "source": [
    "df.columns"
   ]
  },
  {
   "cell_type": "markdown",
   "metadata": {},
   "source": [
    "# 4 - Data Preprocessing"
   ]
  },
  {
   "cell_type": "markdown",
   "metadata": {},
   "source": [
    "## 4.1 - Check Duplicate Data"
   ]
  },
  {
   "cell_type": "code",
   "execution_count": 343,
   "metadata": {},
   "outputs": [
    {
     "data": {
      "text/plain": [
       "0"
      ]
     },
     "execution_count": 343,
     "metadata": {},
     "output_type": "execute_result"
    }
   ],
   "source": [
    "# Check duplicated data\n",
    "df.duplicated().sum()"
   ]
  },
  {
   "cell_type": "markdown",
   "metadata": {},
   "source": [
    "No duplicated row found in this dataset."
   ]
  },
  {
   "cell_type": "markdown",
   "metadata": {},
   "source": [
    "## 4.2 - Missing Value"
   ]
  },
  {
   "cell_type": "code",
   "execution_count": 344,
   "metadata": {},
   "outputs": [
    {
     "data": {
      "text/plain": [
       "id                       0\n",
       "member_id                0\n",
       "loan_amnt                0\n",
       "funded_amnt              0\n",
       "funded_amnt_inv          0\n",
       "                     ...  \n",
       "all_util            466285\n",
       "total_rev_hi_lim     70276\n",
       "inq_fi              466285\n",
       "total_cu_tl         466285\n",
       "inq_last_12m        466285\n",
       "Length: 74, dtype: int64"
      ]
     },
     "execution_count": 344,
     "metadata": {},
     "output_type": "execute_result"
    }
   ],
   "source": [
    "df.isnull().sum()"
   ]
  },
  {
   "cell_type": "markdown",
   "metadata": {},
   "source": [
    "There is many column with no data at all, we will remove this column."
   ]
  },
  {
   "cell_type": "code",
   "execution_count": 345,
   "metadata": {},
   "outputs": [
    {
     "data": {
      "text/plain": [
       "(466285, 74)"
      ]
     },
     "execution_count": 345,
     "metadata": {},
     "output_type": "execute_result"
    }
   ],
   "source": [
    "df.shape"
   ]
  },
  {
   "cell_type": "code",
   "execution_count": 346,
   "metadata": {},
   "outputs": [
    {
     "data": {
      "text/plain": [
       "(466285, 57)"
      ]
     },
     "execution_count": 346,
     "metadata": {},
     "output_type": "execute_result"
    }
   ],
   "source": [
    "df = df.dropna(axis=1, how='all')\n",
    "df.shape"
   ]
  },
  {
   "cell_type": "markdown",
   "metadata": {},
   "source": [
    "All column with no value at all has been successfully removed, the number of column drop from 74 to 57."
   ]
  },
  {
   "cell_type": "code",
   "execution_count": 347,
   "metadata": {},
   "outputs": [
    {
     "data": {
      "text/plain": [
       "emp_title                       27588\n",
       "emp_length                      21008\n",
       "annual_inc                          4\n",
       "desc                           340304\n",
       "title                              21\n",
       "delinq_2yrs                        29\n",
       "earliest_cr_line                   29\n",
       "inq_last_6mths                     29\n",
       "mths_since_last_delinq         250351\n",
       "mths_since_last_record         403647\n",
       "open_acc                           29\n",
       "pub_rec                            29\n",
       "revol_util                        340\n",
       "total_acc                          29\n",
       "last_pymnt_d                      376\n",
       "next_pymnt_d                   227214\n",
       "last_credit_pull_d                 42\n",
       "collections_12_mths_ex_med        145\n",
       "mths_since_last_major_derog    367311\n",
       "acc_now_delinq                     29\n",
       "tot_coll_amt                    70276\n",
       "tot_cur_bal                     70276\n",
       "total_rev_hi_lim                70276\n",
       "dtype: int64"
      ]
     },
     "execution_count": 347,
     "metadata": {},
     "output_type": "execute_result"
    }
   ],
   "source": [
    "# Count null values in each column\n",
    "null_counts = df.isnull().sum()\n",
    "\n",
    "# Filter columns with more than 0 null values\n",
    "columns_with_null = null_counts[null_counts > 0]\n",
    "columns_with_null"
   ]
  },
  {
   "cell_type": "markdown",
   "metadata": {},
   "source": [
    "Checking column with more many null values but not all is null. We will remove ROW on the column with very few null, since the data is big, removing 0.1% data is better for handling missing value."
   ]
  },
  {
   "cell_type": "code",
   "execution_count": 348,
   "metadata": {},
   "outputs": [
    {
     "name": "stdout",
     "output_type": "stream",
     "text": [
      "before remove row :  (466285, 57)\n",
      "after remove row :  (466079, 57)\n"
     ]
    }
   ],
   "source": [
    "# List column with few row is null\n",
    "few_null = ['annual_inc', 'title', 'delinq_2yrs', 'earliest_cr_line', 'inq_last_6mths', 'open_acc', 'pub_rec', 'total_acc', \n",
    "            'last_credit_pull_d', 'collections_12_mths_ex_med', 'acc_now_delinq']\n",
    "\n",
    "# Remove Row with few column null\n",
    "print('before remove row : ', df.shape)\n",
    "df = df.dropna(subset=few_null)\n",
    "print('after remove row : ', df.shape)\n"
   ]
  },
  {
   "cell_type": "markdown",
   "metadata": {},
   "source": [
    "Row which having null is sucessfully removed, the number of row removed is about 200 row from 460k data. Next let's check on the many null column."
   ]
  },
  {
   "cell_type": "code",
   "execution_count": 349,
   "metadata": {},
   "outputs": [
    {
     "data": {
      "text/plain": [
       "emp_title                       27556\n",
       "emp_length                      21003\n",
       "desc                           340246\n",
       "mths_since_last_delinq         250276\n",
       "mths_since_last_record         403552\n",
       "revol_util                        308\n",
       "last_pymnt_d                      376\n",
       "next_pymnt_d                   227123\n",
       "mths_since_last_major_derog    367114\n",
       "tot_coll_amt                    70116\n",
       "tot_cur_bal                     70116\n",
       "total_rev_hi_lim                70116\n",
       "dtype: int64"
      ]
     },
     "execution_count": 349,
     "metadata": {},
     "output_type": "execute_result"
    }
   ],
   "source": [
    "# Count null values in each column\n",
    "null_counts = df.isnull().sum()\n",
    "\n",
    "# Filter columns with more than 0 null values\n",
    "columns_with_null = null_counts[null_counts > 0]\n",
    "columns_with_null"
   ]
  },
  {
   "cell_type": "markdown",
   "metadata": {},
   "source": [
    "We still have 12 column with many null values. We will check if this column is important for model creation or not."
   ]
  },
  {
   "cell_type": "code",
   "execution_count": 350,
   "metadata": {},
   "outputs": [
    {
     "name": "stdout",
     "output_type": "stream",
     "text": [
      "before remove column :  (466079, 57)\n",
      "after remove column :  (466079, 46)\n"
     ]
    }
   ],
   "source": [
    "# List not-important column with many null value\n",
    "ni_null_col = ['emp_title', 'emp_length', 'desc', 'revol_util', 'mths_since_last_delinq', 'mths_since_last_record', \n",
    "               'last_pymnt_d', 'next_pymnt_d', 'mths_since_last_major_derog', 'tot_coll_amt', 'total_rev_hi_lim']\n",
    "\n",
    "print('before remove column : ', df.shape)\n",
    "df_selection = df.drop(columns=ni_null_col)\n",
    "print('after remove column : ', df_selection.shape)"
   ]
  },
  {
   "cell_type": "markdown",
   "metadata": {},
   "source": [
    "After checking all the 12 column, we decide to remove 11 unimportant column and this column have many missing value. The number of column is drop from 57 to 46. Now we have 1 column left that have missing value which is \"tot_cur_bal\". As I consider this is imporant feature so I will replace this NULL value with 0."
   ]
  },
  {
   "cell_type": "code",
   "execution_count": 351,
   "metadata": {},
   "outputs": [],
   "source": [
    "# Replace null in current balance with 0\n",
    "df_selection['tot_cur_bal'] = df_selection['tot_cur_bal'].fillna(0)"
   ]
  },
  {
   "cell_type": "markdown",
   "metadata": {},
   "source": [
    "\"tot_cur_bal\" column null values has been successfully replaced with 0 value."
   ]
  },
  {
   "cell_type": "code",
   "execution_count": 352,
   "metadata": {},
   "outputs": [
    {
     "data": {
      "text/plain": [
       "Series([], dtype: int64)"
      ]
     },
     "execution_count": 352,
     "metadata": {},
     "output_type": "execute_result"
    }
   ],
   "source": [
    "# Count null values in each column\n",
    "null_counts = df_selection.isnull().sum()\n",
    "\n",
    "# Filter columns with more than 0 null values\n",
    "columns_with_null = null_counts[null_counts > 0]\n",
    "columns_with_null"
   ]
  },
  {
   "cell_type": "markdown",
   "metadata": {},
   "source": [
    "No more missing Value found."
   ]
  },
  {
   "cell_type": "code",
   "execution_count": 353,
   "metadata": {},
   "outputs": [
    {
     "data": {
      "text/plain": [
       "(466079, 46)"
      ]
     },
     "execution_count": 353,
     "metadata": {},
     "output_type": "execute_result"
    }
   ],
   "source": [
    "# DF Shape after missing value handling\n",
    "df_selection.shape"
   ]
  },
  {
   "cell_type": "markdown",
   "metadata": {},
   "source": [
    "Dataframe shape after missing value handling."
   ]
  },
  {
   "cell_type": "markdown",
   "metadata": {},
   "source": [
    "## 4.3 - Target Labeling"
   ]
  },
  {
   "cell_type": "code",
   "execution_count": 354,
   "metadata": {},
   "outputs": [
    {
     "data": {
      "text/plain": [
       "Index(['id', 'member_id', 'loan_amnt', 'funded_amnt', 'funded_amnt_inv',\n",
       "       'term', 'int_rate', 'installment', 'grade', 'sub_grade',\n",
       "       'home_ownership', 'annual_inc', 'verification_status', 'issue_d',\n",
       "       'loan_status', 'pymnt_plan', 'url', 'purpose', 'title', 'zip_code',\n",
       "       'addr_state', 'dti', 'delinq_2yrs', 'earliest_cr_line',\n",
       "       'inq_last_6mths', 'open_acc', 'pub_rec', 'revol_bal', 'total_acc',\n",
       "       'initial_list_status', 'out_prncp', 'out_prncp_inv', 'total_pymnt',\n",
       "       'total_pymnt_inv', 'total_rec_prncp', 'total_rec_int',\n",
       "       'total_rec_late_fee', 'recoveries', 'collection_recovery_fee',\n",
       "       'last_pymnt_amnt', 'last_credit_pull_d', 'collections_12_mths_ex_med',\n",
       "       'policy_code', 'application_type', 'acc_now_delinq', 'tot_cur_bal'],\n",
       "      dtype='object')"
      ]
     },
     "execution_count": 354,
     "metadata": {},
     "output_type": "execute_result"
    }
   ],
   "source": [
    "df_selection.columns"
   ]
  },
  {
   "cell_type": "markdown",
   "metadata": {},
   "source": [
    "It seems \"loan_status\" is the target in this dataset. Let's check the value on those column."
   ]
  },
  {
   "cell_type": "code",
   "execution_count": 355,
   "metadata": {},
   "outputs": [
    {
     "data": {
      "text/plain": [
       "array(['Fully Paid', 'Charged Off', 'Current', 'Default',\n",
       "       'Late (31-120 days)', 'In Grace Period', 'Late (16-30 days)',\n",
       "       'Does not meet the credit policy. Status:Fully Paid',\n",
       "       'Does not meet the credit policy. Status:Charged Off'],\n",
       "      dtype=object)"
      ]
     },
     "execution_count": 355,
     "metadata": {},
     "output_type": "execute_result"
    }
   ],
   "source": [
    "# Check target (y) unique value\n",
    "df_selection['loan_status'].unique()"
   ]
  },
  {
   "cell_type": "markdown",
   "metadata": {},
   "source": [
    "Based on this value, I will simplify this target value to 0 and 1.  \n",
    "Where **0** as **Negative** label and **1** as **Positive** label.  \n",
    " \n",
    "Here I decide to set :  \n",
    "`0 = Negative = Fail Payment / Bad Customer`  \n",
    "`1 = Positive = Full Payment / Good Customer`"
   ]
  },
  {
   "cell_type": "code",
   "execution_count": 356,
   "metadata": {},
   "outputs": [
    {
     "name": "stdout",
     "output_type": "stream",
     "text": [
      "[1 0]\n"
     ]
    }
   ],
   "source": [
    "# Mapping target (y)\n",
    "def loanStatus(row):\n",
    "   if row['loan_status'] == 'Fully Paid' or row['loan_status'] == 'Current' or row['loan_status'] == 'Does not meet the credit policy. Status:Fully Paid':\n",
    "      return 1\n",
    "   else:\n",
    "      return 0\n",
    "   \n",
    "df_selection['loan_status'] = df_selection.apply(lambda row: loanStatus(row), axis=1)\n",
    "print(df_selection['loan_status'].unique())"
   ]
  },
  {
   "cell_type": "markdown",
   "metadata": {},
   "source": [
    "Column \"loan_status\" has been successfully replaced with 0 and 1 within the condition 'Fully Paid' and 'Current' is labeled as 1 and the rest is 0."
   ]
  },
  {
   "cell_type": "markdown",
   "metadata": {},
   "source": [
    "## 4.4 - Feature Selection"
   ]
  },
  {
   "cell_type": "code",
   "execution_count": 357,
   "metadata": {},
   "outputs": [
    {
     "data": {
      "text/html": [
       "<div>\n",
       "<style scoped>\n",
       "    .dataframe tbody tr th:only-of-type {\n",
       "        vertical-align: middle;\n",
       "    }\n",
       "\n",
       "    .dataframe tbody tr th {\n",
       "        vertical-align: top;\n",
       "    }\n",
       "\n",
       "    .dataframe thead th {\n",
       "        text-align: right;\n",
       "    }\n",
       "</style>\n",
       "<table border=\"1\" class=\"dataframe\">\n",
       "  <thead>\n",
       "    <tr style=\"text-align: right;\">\n",
       "      <th></th>\n",
       "      <th>id</th>\n",
       "      <th>member_id</th>\n",
       "      <th>loan_amnt</th>\n",
       "      <th>funded_amnt</th>\n",
       "      <th>funded_amnt_inv</th>\n",
       "      <th>term</th>\n",
       "      <th>int_rate</th>\n",
       "      <th>installment</th>\n",
       "      <th>grade</th>\n",
       "      <th>sub_grade</th>\n",
       "      <th>...</th>\n",
       "      <th>total_rec_late_fee</th>\n",
       "      <th>recoveries</th>\n",
       "      <th>collection_recovery_fee</th>\n",
       "      <th>last_pymnt_amnt</th>\n",
       "      <th>last_credit_pull_d</th>\n",
       "      <th>collections_12_mths_ex_med</th>\n",
       "      <th>policy_code</th>\n",
       "      <th>application_type</th>\n",
       "      <th>acc_now_delinq</th>\n",
       "      <th>tot_cur_bal</th>\n",
       "    </tr>\n",
       "  </thead>\n",
       "  <tbody>\n",
       "    <tr>\n",
       "      <th>0</th>\n",
       "      <td>1077501</td>\n",
       "      <td>1296599</td>\n",
       "      <td>5000</td>\n",
       "      <td>5000</td>\n",
       "      <td>4975.0</td>\n",
       "      <td>36 months</td>\n",
       "      <td>10.65</td>\n",
       "      <td>162.87</td>\n",
       "      <td>B</td>\n",
       "      <td>B2</td>\n",
       "      <td>...</td>\n",
       "      <td>0.00</td>\n",
       "      <td>0.00</td>\n",
       "      <td>0.00</td>\n",
       "      <td>171.62</td>\n",
       "      <td>Jan-16</td>\n",
       "      <td>0.0</td>\n",
       "      <td>1</td>\n",
       "      <td>INDIVIDUAL</td>\n",
       "      <td>0.0</td>\n",
       "      <td>0.0</td>\n",
       "    </tr>\n",
       "    <tr>\n",
       "      <th>1</th>\n",
       "      <td>1077430</td>\n",
       "      <td>1314167</td>\n",
       "      <td>2500</td>\n",
       "      <td>2500</td>\n",
       "      <td>2500.0</td>\n",
       "      <td>60 months</td>\n",
       "      <td>15.27</td>\n",
       "      <td>59.83</td>\n",
       "      <td>C</td>\n",
       "      <td>C4</td>\n",
       "      <td>...</td>\n",
       "      <td>0.00</td>\n",
       "      <td>117.08</td>\n",
       "      <td>1.11</td>\n",
       "      <td>119.66</td>\n",
       "      <td>Sep-13</td>\n",
       "      <td>0.0</td>\n",
       "      <td>1</td>\n",
       "      <td>INDIVIDUAL</td>\n",
       "      <td>0.0</td>\n",
       "      <td>0.0</td>\n",
       "    </tr>\n",
       "    <tr>\n",
       "      <th>2</th>\n",
       "      <td>1077175</td>\n",
       "      <td>1313524</td>\n",
       "      <td>2400</td>\n",
       "      <td>2400</td>\n",
       "      <td>2400.0</td>\n",
       "      <td>36 months</td>\n",
       "      <td>15.96</td>\n",
       "      <td>84.33</td>\n",
       "      <td>C</td>\n",
       "      <td>C5</td>\n",
       "      <td>...</td>\n",
       "      <td>0.00</td>\n",
       "      <td>0.00</td>\n",
       "      <td>0.00</td>\n",
       "      <td>649.91</td>\n",
       "      <td>Jan-16</td>\n",
       "      <td>0.0</td>\n",
       "      <td>1</td>\n",
       "      <td>INDIVIDUAL</td>\n",
       "      <td>0.0</td>\n",
       "      <td>0.0</td>\n",
       "    </tr>\n",
       "    <tr>\n",
       "      <th>3</th>\n",
       "      <td>1076863</td>\n",
       "      <td>1277178</td>\n",
       "      <td>10000</td>\n",
       "      <td>10000</td>\n",
       "      <td>10000.0</td>\n",
       "      <td>36 months</td>\n",
       "      <td>13.49</td>\n",
       "      <td>339.31</td>\n",
       "      <td>C</td>\n",
       "      <td>C1</td>\n",
       "      <td>...</td>\n",
       "      <td>16.97</td>\n",
       "      <td>0.00</td>\n",
       "      <td>0.00</td>\n",
       "      <td>357.48</td>\n",
       "      <td>Jan-15</td>\n",
       "      <td>0.0</td>\n",
       "      <td>1</td>\n",
       "      <td>INDIVIDUAL</td>\n",
       "      <td>0.0</td>\n",
       "      <td>0.0</td>\n",
       "    </tr>\n",
       "    <tr>\n",
       "      <th>4</th>\n",
       "      <td>1075358</td>\n",
       "      <td>1311748</td>\n",
       "      <td>3000</td>\n",
       "      <td>3000</td>\n",
       "      <td>3000.0</td>\n",
       "      <td>60 months</td>\n",
       "      <td>12.69</td>\n",
       "      <td>67.79</td>\n",
       "      <td>B</td>\n",
       "      <td>B5</td>\n",
       "      <td>...</td>\n",
       "      <td>0.00</td>\n",
       "      <td>0.00</td>\n",
       "      <td>0.00</td>\n",
       "      <td>67.79</td>\n",
       "      <td>Jan-16</td>\n",
       "      <td>0.0</td>\n",
       "      <td>1</td>\n",
       "      <td>INDIVIDUAL</td>\n",
       "      <td>0.0</td>\n",
       "      <td>0.0</td>\n",
       "    </tr>\n",
       "  </tbody>\n",
       "</table>\n",
       "<p>5 rows × 46 columns</p>\n",
       "</div>"
      ],
      "text/plain": [
       "        id  member_id  loan_amnt  funded_amnt  funded_amnt_inv        term  \\\n",
       "0  1077501    1296599       5000         5000           4975.0   36 months   \n",
       "1  1077430    1314167       2500         2500           2500.0   60 months   \n",
       "2  1077175    1313524       2400         2400           2400.0   36 months   \n",
       "3  1076863    1277178      10000        10000          10000.0   36 months   \n",
       "4  1075358    1311748       3000         3000           3000.0   60 months   \n",
       "\n",
       "   int_rate  installment grade sub_grade  ... total_rec_late_fee  recoveries  \\\n",
       "0     10.65       162.87     B        B2  ...               0.00        0.00   \n",
       "1     15.27        59.83     C        C4  ...               0.00      117.08   \n",
       "2     15.96        84.33     C        C5  ...               0.00        0.00   \n",
       "3     13.49       339.31     C        C1  ...              16.97        0.00   \n",
       "4     12.69        67.79     B        B5  ...               0.00        0.00   \n",
       "\n",
       "  collection_recovery_fee last_pymnt_amnt  last_credit_pull_d  \\\n",
       "0                    0.00          171.62              Jan-16   \n",
       "1                    1.11          119.66              Sep-13   \n",
       "2                    0.00          649.91              Jan-16   \n",
       "3                    0.00          357.48              Jan-15   \n",
       "4                    0.00           67.79              Jan-16   \n",
       "\n",
       "  collections_12_mths_ex_med policy_code application_type acc_now_delinq  \\\n",
       "0                        0.0           1       INDIVIDUAL            0.0   \n",
       "1                        0.0           1       INDIVIDUAL            0.0   \n",
       "2                        0.0           1       INDIVIDUAL            0.0   \n",
       "3                        0.0           1       INDIVIDUAL            0.0   \n",
       "4                        0.0           1       INDIVIDUAL            0.0   \n",
       "\n",
       "  tot_cur_bal  \n",
       "0         0.0  \n",
       "1         0.0  \n",
       "2         0.0  \n",
       "3         0.0  \n",
       "4         0.0  \n",
       "\n",
       "[5 rows x 46 columns]"
      ]
     },
     "execution_count": 357,
     "metadata": {},
     "output_type": "execute_result"
    }
   ],
   "source": [
    "df_selection.head()"
   ]
  },
  {
   "cell_type": "code",
   "execution_count": 358,
   "metadata": {},
   "outputs": [],
   "source": [
    "pd.reset_option('display.max_columns')"
   ]
  },
  {
   "cell_type": "code",
   "execution_count": 359,
   "metadata": {},
   "outputs": [],
   "source": [
    "# Feature Selection\n",
    "imp_col = ['loan_amnt', 'funded_amnt', 'term', 'int_rate', 'grade', 'home_ownership', 'annual_inc', 'verification_status', \n",
    "           'dti', 'delinq_2yrs', 'open_acc', 'pub_rec', 'total_acc', 'initial_list_status', 'total_pymnt', 'total_pymnt_inv', \n",
    "           'last_pymnt_amnt', 'acc_now_delinq', 'tot_cur_bal', 'loan_status']"
   ]
  },
  {
   "cell_type": "markdown",
   "metadata": {},
   "source": [
    "Select important column/feature based and we decide this 20 feature are the most important to create a model."
   ]
  },
  {
   "cell_type": "code",
   "execution_count": 360,
   "metadata": {},
   "outputs": [
    {
     "data": {
      "text/plain": [
       "array(['RENT', 'OWN', 'MORTGAGE', 'OTHER', 'NONE', 'ANY'], dtype=object)"
      ]
     },
     "execution_count": 360,
     "metadata": {},
     "output_type": "execute_result"
    }
   ],
   "source": [
    "df_selection['home_ownership'].unique()\n",
    "# Own, Mortgage = Own, else None"
   ]
  },
  {
   "cell_type": "code",
   "execution_count": 361,
   "metadata": {},
   "outputs": [
    {
     "data": {
      "text/plain": [
       "array(['Verified', 'Source Verified', 'Not Verified'], dtype=object)"
      ]
     },
     "execution_count": 361,
     "metadata": {},
     "output_type": "execute_result"
    }
   ],
   "source": [
    "df_selection['verification_status'].unique()\n",
    "# Source Verified = Verified"
   ]
  },
  {
   "cell_type": "code",
   "execution_count": 362,
   "metadata": {},
   "outputs": [
    {
     "name": "stdout",
     "output_type": "stream",
     "text": [
      "before feature selection :  (466079, 46)\n",
      "after feature selection :  (466079, 20)\n"
     ]
    }
   ],
   "source": [
    "print('before feature selection : ', df_selection.shape)\n",
    "df_selection = df_selection[imp_col]\n",
    "print('after feature selection : ', df_selection.shape)"
   ]
  },
  {
   "cell_type": "markdown",
   "metadata": {},
   "source": [
    "The number of column drop from 46 to 20 after we select the most imporant feature."
   ]
  },
  {
   "cell_type": "markdown",
   "metadata": {},
   "source": [
    "## 4.5 - Feature Creation"
   ]
  },
  {
   "cell_type": "code",
   "execution_count": 363,
   "metadata": {},
   "outputs": [],
   "source": [
    "# Remove 'months' from term\n",
    "df_selection['term'] = df_selection['term'].str.replace('months', '').str.strip()"
   ]
  },
  {
   "cell_type": "code",
   "execution_count": 364,
   "metadata": {},
   "outputs": [
    {
     "data": {
      "text/plain": [
       "array(['Verified', 'Not Verified'], dtype=object)"
      ]
     },
     "execution_count": 364,
     "metadata": {},
     "output_type": "execute_result"
    }
   ],
   "source": [
    "# Replace Source verified to verified from verification status\n",
    "df_selection['verification_status'] = df_selection['verification_status'].str.replace('Source Verified', 'Verified').str.strip()\n",
    "df_selection['verification_status'].unique()"
   ]
  },
  {
   "cell_type": "markdown",
   "metadata": {},
   "source": [
    "Simplify column 'verification_status' into 'Verified and 'Not Verified'"
   ]
  },
  {
   "cell_type": "code",
   "execution_count": 365,
   "metadata": {},
   "outputs": [
    {
     "name": "stdout",
     "output_type": "stream",
     "text": [
      "['NONE' 'OWN']\n"
     ]
    }
   ],
   "source": [
    "# Mapping Home Ownership\n",
    "def homeOwnership(row):\n",
    "   if row['home_ownership'] == 'OWN' or row['home_ownership'] == 'MORTGAGE':\n",
    "      return 'OWN'\n",
    "   else:\n",
    "      return 'NONE'\n",
    "   \n",
    "df_selection['home_ownership'] = df_selection.apply(lambda row: homeOwnership(row), axis=1)\n",
    "print(df_selection['home_ownership'].unique())"
   ]
  },
  {
   "cell_type": "markdown",
   "metadata": {},
   "source": [
    "Simplify column 'home_ownership' into 'Own' and 'None'"
   ]
  },
  {
   "cell_type": "code",
   "execution_count": 366,
   "metadata": {},
   "outputs": [
    {
     "data": {
      "text/html": [
       "<div>\n",
       "<style scoped>\n",
       "    .dataframe tbody tr th:only-of-type {\n",
       "        vertical-align: middle;\n",
       "    }\n",
       "\n",
       "    .dataframe tbody tr th {\n",
       "        vertical-align: top;\n",
       "    }\n",
       "\n",
       "    .dataframe thead th {\n",
       "        text-align: right;\n",
       "    }\n",
       "</style>\n",
       "<table border=\"1\" class=\"dataframe\">\n",
       "  <thead>\n",
       "    <tr style=\"text-align: right;\">\n",
       "      <th></th>\n",
       "      <th>loan_amnt</th>\n",
       "      <th>funded_amnt</th>\n",
       "      <th>term</th>\n",
       "      <th>int_rate</th>\n",
       "      <th>grade</th>\n",
       "      <th>home_ownership</th>\n",
       "      <th>annual_inc</th>\n",
       "      <th>verification_status</th>\n",
       "      <th>dti</th>\n",
       "      <th>delinq_2yrs</th>\n",
       "      <th>open_acc</th>\n",
       "      <th>pub_rec</th>\n",
       "      <th>total_acc</th>\n",
       "      <th>initial_list_status</th>\n",
       "      <th>total_pymnt</th>\n",
       "      <th>total_pymnt_inv</th>\n",
       "      <th>last_pymnt_amnt</th>\n",
       "      <th>acc_now_delinq</th>\n",
       "      <th>tot_cur_bal</th>\n",
       "      <th>loan_status</th>\n",
       "    </tr>\n",
       "  </thead>\n",
       "  <tbody>\n",
       "    <tr>\n",
       "      <th>0</th>\n",
       "      <td>5000</td>\n",
       "      <td>5000</td>\n",
       "      <td>36</td>\n",
       "      <td>10.65</td>\n",
       "      <td>B</td>\n",
       "      <td>NONE</td>\n",
       "      <td>24000.0</td>\n",
       "      <td>Verified</td>\n",
       "      <td>27.65</td>\n",
       "      <td>0.0</td>\n",
       "      <td>3.0</td>\n",
       "      <td>0.0</td>\n",
       "      <td>9.0</td>\n",
       "      <td>f</td>\n",
       "      <td>5861.071414</td>\n",
       "      <td>5831.78</td>\n",
       "      <td>171.62</td>\n",
       "      <td>0.0</td>\n",
       "      <td>0.0</td>\n",
       "      <td>1</td>\n",
       "    </tr>\n",
       "    <tr>\n",
       "      <th>1</th>\n",
       "      <td>2500</td>\n",
       "      <td>2500</td>\n",
       "      <td>60</td>\n",
       "      <td>15.27</td>\n",
       "      <td>C</td>\n",
       "      <td>NONE</td>\n",
       "      <td>30000.0</td>\n",
       "      <td>Verified</td>\n",
       "      <td>1.00</td>\n",
       "      <td>0.0</td>\n",
       "      <td>3.0</td>\n",
       "      <td>0.0</td>\n",
       "      <td>4.0</td>\n",
       "      <td>f</td>\n",
       "      <td>1008.710000</td>\n",
       "      <td>1008.71</td>\n",
       "      <td>119.66</td>\n",
       "      <td>0.0</td>\n",
       "      <td>0.0</td>\n",
       "      <td>0</td>\n",
       "    </tr>\n",
       "    <tr>\n",
       "      <th>2</th>\n",
       "      <td>2400</td>\n",
       "      <td>2400</td>\n",
       "      <td>36</td>\n",
       "      <td>15.96</td>\n",
       "      <td>C</td>\n",
       "      <td>NONE</td>\n",
       "      <td>12252.0</td>\n",
       "      <td>Not Verified</td>\n",
       "      <td>8.72</td>\n",
       "      <td>0.0</td>\n",
       "      <td>2.0</td>\n",
       "      <td>0.0</td>\n",
       "      <td>10.0</td>\n",
       "      <td>f</td>\n",
       "      <td>3003.653644</td>\n",
       "      <td>3003.65</td>\n",
       "      <td>649.91</td>\n",
       "      <td>0.0</td>\n",
       "      <td>0.0</td>\n",
       "      <td>1</td>\n",
       "    </tr>\n",
       "    <tr>\n",
       "      <th>3</th>\n",
       "      <td>10000</td>\n",
       "      <td>10000</td>\n",
       "      <td>36</td>\n",
       "      <td>13.49</td>\n",
       "      <td>C</td>\n",
       "      <td>NONE</td>\n",
       "      <td>49200.0</td>\n",
       "      <td>Verified</td>\n",
       "      <td>20.00</td>\n",
       "      <td>0.0</td>\n",
       "      <td>10.0</td>\n",
       "      <td>0.0</td>\n",
       "      <td>37.0</td>\n",
       "      <td>f</td>\n",
       "      <td>12226.302210</td>\n",
       "      <td>12226.30</td>\n",
       "      <td>357.48</td>\n",
       "      <td>0.0</td>\n",
       "      <td>0.0</td>\n",
       "      <td>1</td>\n",
       "    </tr>\n",
       "    <tr>\n",
       "      <th>4</th>\n",
       "      <td>3000</td>\n",
       "      <td>3000</td>\n",
       "      <td>60</td>\n",
       "      <td>12.69</td>\n",
       "      <td>B</td>\n",
       "      <td>NONE</td>\n",
       "      <td>80000.0</td>\n",
       "      <td>Verified</td>\n",
       "      <td>17.94</td>\n",
       "      <td>0.0</td>\n",
       "      <td>15.0</td>\n",
       "      <td>0.0</td>\n",
       "      <td>38.0</td>\n",
       "      <td>f</td>\n",
       "      <td>3242.170000</td>\n",
       "      <td>3242.17</td>\n",
       "      <td>67.79</td>\n",
       "      <td>0.0</td>\n",
       "      <td>0.0</td>\n",
       "      <td>1</td>\n",
       "    </tr>\n",
       "  </tbody>\n",
       "</table>\n",
       "</div>"
      ],
      "text/plain": [
       "   loan_amnt  funded_amnt term  int_rate grade home_ownership  annual_inc  \\\n",
       "0       5000         5000   36     10.65     B           NONE     24000.0   \n",
       "1       2500         2500   60     15.27     C           NONE     30000.0   \n",
       "2       2400         2400   36     15.96     C           NONE     12252.0   \n",
       "3      10000        10000   36     13.49     C           NONE     49200.0   \n",
       "4       3000         3000   60     12.69     B           NONE     80000.0   \n",
       "\n",
       "  verification_status    dti  delinq_2yrs  open_acc  pub_rec  total_acc  \\\n",
       "0            Verified  27.65          0.0       3.0      0.0        9.0   \n",
       "1            Verified   1.00          0.0       3.0      0.0        4.0   \n",
       "2        Not Verified   8.72          0.0       2.0      0.0       10.0   \n",
       "3            Verified  20.00          0.0      10.0      0.0       37.0   \n",
       "4            Verified  17.94          0.0      15.0      0.0       38.0   \n",
       "\n",
       "  initial_list_status   total_pymnt  total_pymnt_inv  last_pymnt_amnt  \\\n",
       "0                   f   5861.071414          5831.78           171.62   \n",
       "1                   f   1008.710000          1008.71           119.66   \n",
       "2                   f   3003.653644          3003.65           649.91   \n",
       "3                   f  12226.302210         12226.30           357.48   \n",
       "4                   f   3242.170000          3242.17            67.79   \n",
       "\n",
       "   acc_now_delinq  tot_cur_bal  loan_status  \n",
       "0             0.0          0.0            1  \n",
       "1             0.0          0.0            0  \n",
       "2             0.0          0.0            1  \n",
       "3             0.0          0.0            1  \n",
       "4             0.0          0.0            1  "
      ]
     },
     "execution_count": 366,
     "metadata": {},
     "output_type": "execute_result"
    }
   ],
   "source": [
    "df_selection.head()"
   ]
  },
  {
   "cell_type": "code",
   "execution_count": 367,
   "metadata": {},
   "outputs": [
    {
     "name": "stdout",
     "output_type": "stream",
     "text": [
      "<class 'pandas.core.frame.DataFrame'>\n",
      "Index: 466079 entries, 0 to 466284\n",
      "Data columns (total 20 columns):\n",
      " #   Column               Non-Null Count   Dtype  \n",
      "---  ------               --------------   -----  \n",
      " 0   loan_amnt            466079 non-null  int64  \n",
      " 1   funded_amnt          466079 non-null  int64  \n",
      " 2   term                 466079 non-null  object \n",
      " 3   int_rate             466079 non-null  float64\n",
      " 4   grade                466079 non-null  object \n",
      " 5   home_ownership       466079 non-null  object \n",
      " 6   annual_inc           466079 non-null  float64\n",
      " 7   verification_status  466079 non-null  object \n",
      " 8   dti                  466079 non-null  float64\n",
      " 9   delinq_2yrs          466079 non-null  float64\n",
      " 10  open_acc             466079 non-null  float64\n",
      " 11  pub_rec              466079 non-null  float64\n",
      " 12  total_acc            466079 non-null  float64\n",
      " 13  initial_list_status  466079 non-null  object \n",
      " 14  total_pymnt          466079 non-null  float64\n",
      " 15  total_pymnt_inv      466079 non-null  float64\n",
      " 16  last_pymnt_amnt      466079 non-null  float64\n",
      " 17  acc_now_delinq       466079 non-null  float64\n",
      " 18  tot_cur_bal          466079 non-null  float64\n",
      " 19  loan_status          466079 non-null  int64  \n",
      "dtypes: float64(12), int64(3), object(5)\n",
      "memory usage: 74.7+ MB\n"
     ]
    }
   ],
   "source": [
    "df_selection.info()"
   ]
  },
  {
   "cell_type": "markdown",
   "metadata": {},
   "source": [
    "Above are the preview of the Loan Dataset after we perform Data Preprocessing."
   ]
  },
  {
   "cell_type": "markdown",
   "metadata": {},
   "source": [
    "# 5 - Exploratory Data Analysis (EDA)"
   ]
  },
  {
   "cell_type": "markdown",
   "metadata": {},
   "source": [
    "## 5.1 - Numerical Column"
   ]
  },
  {
   "cell_type": "code",
   "execution_count": 368,
   "metadata": {},
   "outputs": [],
   "source": [
    "def exploreNumCol(df,  col):\n",
    "    mean = df[col].mean()\n",
    "    median = df[col].median()\n",
    "    modus = df[col].mode().values[0]\n",
    "\n",
    "    min = df[col].min()\n",
    "    max = df[col].max()\n",
    "\n",
    "    print(f'Mean {col} = {mean:.2f}')\n",
    "    print(f'Median {col} = {median}')\n",
    "    print(f'Modus {col} = {modus}')\n",
    "    print(f'Min {col} = {min}')\n",
    "    print(f'Max {col} = {max}')\n",
    "\n",
    "    skew = df[col].skew()\n",
    "    if skew < 0.5:\n",
    "        print(f'Skewness {col} = {skew}, data distribution is normal')\n",
    "    else:\n",
    "        print(f'Skewness {col} = {skew}, data distribution is not normal')"
   ]
  },
  {
   "cell_type": "code",
   "execution_count": 369,
   "metadata": {},
   "outputs": [
    {
     "name": "stdout",
     "output_type": "stream",
     "text": [
      "Mean loan_amnt = 14320.03\n",
      "Median loan_amnt = 12000.0\n",
      "Modus loan_amnt = 10000\n",
      "Min loan_amnt = 500\n",
      "Max loan_amnt = 35000\n",
      "Skewness loan_amnt = 0.73091347969855, data distribution is not normal\n"
     ]
    }
   ],
   "source": [
    "exploreNumCol(df_selection, 'loan_amnt')"
   ]
  },
  {
   "cell_type": "code",
   "execution_count": 370,
   "metadata": {},
   "outputs": [
    {
     "data": {
      "text/plain": [
       "[Text(0.5, 1.0, 'Loan Amount')]"
      ]
     },
     "execution_count": 370,
     "metadata": {},
     "output_type": "execute_result"
    },
    {
     "data": {
      "image/png": "[encoded data removed]",
      "text/plain": [
       "<Figure size 640x480 with 1 Axes>"
      ]
     },
     "metadata": {},
     "output_type": "display_data"
    }
   ],
   "source": [
    "sns.histplot(df_selection['loan_amnt'], bins=20, kde=True).set(title='Loan Amount')"
   ]
  },
  {
   "cell_type": "markdown",
   "metadata": {},
   "source": [
    "Column 'loan_amnt' distribution is not normal."
   ]
  },
  {
   "cell_type": "code",
   "execution_count": 371,
   "metadata": {},
   "outputs": [
    {
     "name": "stdout",
     "output_type": "stream",
     "text": [
      "Mean annual_inc = 73277.46\n",
      "Median annual_inc = 63000.0\n",
      "Modus annual_inc = 60000.0\n",
      "Min annual_inc = 1896.0\n",
      "Max annual_inc = 7500000.0\n",
      "Skewness annual_inc = 29.58542344175117, data distribution is not normal\n"
     ]
    }
   ],
   "source": [
    "exploreNumCol(df_selection, 'annual_inc')"
   ]
  },
  {
   "cell_type": "code",
   "execution_count": 372,
   "metadata": {},
   "outputs": [],
   "source": [
    "def sns_barplot(df, groupby_column, label):\n",
    "    plt.figure(figsize=(3, 5))\n",
    "    df_barplot = df.groupby(groupby_column).size().reset_index(name='counts')\n",
    "    ax = sns.barplot(data=df_barplot, x=groupby_column, y='counts', orient='v')\n",
    "    ax.bar_label(ax.containers[0]) if label == True else None\n",
    "    ax.set(title=f'Count of {groupby_column}')\n",
    "    plt.show()"
   ]
  },
  {
   "cell_type": "code",
   "execution_count": 373,
   "metadata": {},
   "outputs": [
    {
     "data": {
      "text/plain": [
       "[Text(0.5, 1.0, 'Annual Income')]"
      ]
     },
     "execution_count": 373,
     "metadata": {},
     "output_type": "execute_result"
    },
    {
     "data": {
      "image/png": "[encoded data removed]",
      "text/plain": [
       "<Figure size 640x480 with 1 Axes>"
      ]
     },
     "metadata": {},
     "output_type": "display_data"
    }
   ],
   "source": [
    "sns.histplot(df_selection['annual_inc'], bins=20, kde=True).set(title='Annual Income')"
   ]
  },
  {
   "cell_type": "markdown",
   "metadata": {},
   "source": [
    "Column 'annual_inc' distribution is not normal."
   ]
  },
  {
   "cell_type": "markdown",
   "metadata": {},
   "source": [
    "## 5.2 - Target (y)"
   ]
  },
  {
   "cell_type": "code",
   "execution_count": 374,
   "metadata": {},
   "outputs": [
    {
     "data": {
      "image/png": "[encoded data removed]",
      "text/plain": [
       "<Figure size 300x500 with 1 Axes>"
      ]
     },
     "metadata": {},
     "output_type": "display_data"
    }
   ],
   "source": [
    "sns_barplot(df_selection, 'loan_status', True)"
   ]
  },
  {
   "cell_type": "markdown",
   "metadata": {},
   "source": [
    "Based on the bargraph above, as we can see this dataset is imbalance. And this is normal because most of the customer is a good customer '1' and only few customer is categorize as fail payment/bad customer '0'."
   ]
  },
  {
   "cell_type": "markdown",
   "metadata": {},
   "source": [
    "# 6 - Feature Engineering"
   ]
  },
  {
   "cell_type": "markdown",
   "metadata": {},
   "source": [
    "## 6.1 - Split Feature(X) and Target(y)"
   ]
  },
  {
   "cell_type": "code",
   "execution_count": 375,
   "metadata": {},
   "outputs": [],
   "source": [
    "# Split X and y\n",
    "X = df_selection.drop('loan_status', axis=1)\n",
    "y = df_selection['loan_status']"
   ]
  },
  {
   "cell_type": "markdown",
   "metadata": {},
   "source": [
    "## 6.2 - Split Train set and Test set"
   ]
  },
  {
   "cell_type": "code",
   "execution_count": 376,
   "metadata": {},
   "outputs": [
    {
     "name": "stdout",
     "output_type": "stream",
     "text": [
      "Train Size :  (372863, 19)\n",
      "Test Size :  (93216, 19)\n",
      "y Train Size :  (372863,)\n",
      "y Test Size :  (93216,)\n"
     ]
    }
   ],
   "source": [
    "#Split train and test (80% Train, 20% test)\n",
    "X_train, X_test, y_train, y_test = train_test_split(X, y, test_size=0.2 , random_state=21)\n",
    "print('Train Size : ', X_train.shape)\n",
    "print('Test Size : ', X_test.shape)\n",
    "print('y Train Size : ', y_train.shape)\n",
    "print('y Test Size : ', y_test.shape)"
   ]
  },
  {
   "cell_type": "code",
   "execution_count": 287,
   "metadata": {},
   "outputs": [
    {
     "data": {
      "text/html": [
       "<div>\n",
       "<style scoped>\n",
       "    .dataframe tbody tr th:only-of-type {\n",
       "        vertical-align: middle;\n",
       "    }\n",
       "\n",
       "    .dataframe tbody tr th {\n",
       "        vertical-align: top;\n",
       "    }\n",
       "\n",
       "    .dataframe thead th {\n",
       "        text-align: right;\n",
       "    }\n",
       "</style>\n",
       "<table border=\"1\" class=\"dataframe\">\n",
       "  <thead>\n",
       "    <tr style=\"text-align: right;\">\n",
       "      <th></th>\n",
       "      <th>loan_amnt</th>\n",
       "      <th>funded_amnt</th>\n",
       "      <th>term</th>\n",
       "      <th>int_rate</th>\n",
       "      <th>grade</th>\n",
       "      <th>home_ownership</th>\n",
       "      <th>annual_inc</th>\n",
       "      <th>verification_status</th>\n",
       "      <th>dti</th>\n",
       "      <th>delinq_2yrs</th>\n",
       "      <th>open_acc</th>\n",
       "      <th>pub_rec</th>\n",
       "      <th>total_acc</th>\n",
       "      <th>initial_list_status</th>\n",
       "      <th>total_pymnt</th>\n",
       "      <th>total_pymnt_inv</th>\n",
       "      <th>last_pymnt_amnt</th>\n",
       "      <th>acc_now_delinq</th>\n",
       "      <th>tot_cur_bal</th>\n",
       "    </tr>\n",
       "  </thead>\n",
       "  <tbody>\n",
       "    <tr>\n",
       "      <th>298150</th>\n",
       "      <td>14300</td>\n",
       "      <td>14300</td>\n",
       "      <td>36</td>\n",
       "      <td>14.49</td>\n",
       "      <td>C</td>\n",
       "      <td>OWN</td>\n",
       "      <td>60000.0</td>\n",
       "      <td>Verified</td>\n",
       "      <td>9.32</td>\n",
       "      <td>0.0</td>\n",
       "      <td>6.0</td>\n",
       "      <td>1.0</td>\n",
       "      <td>13.0</td>\n",
       "      <td>f</td>\n",
       "      <td>16238.02</td>\n",
       "      <td>16238.02</td>\n",
       "      <td>10332.10</td>\n",
       "      <td>0.0</td>\n",
       "      <td>264221.0</td>\n",
       "    </tr>\n",
       "    <tr>\n",
       "      <th>419894</th>\n",
       "      <td>5000</td>\n",
       "      <td>5000</td>\n",
       "      <td>36</td>\n",
       "      <td>22.45</td>\n",
       "      <td>E</td>\n",
       "      <td>NONE</td>\n",
       "      <td>48000.0</td>\n",
       "      <td>Verified</td>\n",
       "      <td>22.95</td>\n",
       "      <td>0.0</td>\n",
       "      <td>8.0</td>\n",
       "      <td>0.0</td>\n",
       "      <td>17.0</td>\n",
       "      <td>f</td>\n",
       "      <td>6314.32</td>\n",
       "      <td>6314.32</td>\n",
       "      <td>3240.40</td>\n",
       "      <td>0.0</td>\n",
       "      <td>37229.0</td>\n",
       "    </tr>\n",
       "    <tr>\n",
       "      <th>101446</th>\n",
       "      <td>9925</td>\n",
       "      <td>9925</td>\n",
       "      <td>36</td>\n",
       "      <td>21.60</td>\n",
       "      <td>E</td>\n",
       "      <td>OWN</td>\n",
       "      <td>28420.0</td>\n",
       "      <td>Verified</td>\n",
       "      <td>20.44</td>\n",
       "      <td>0.0</td>\n",
       "      <td>8.0</td>\n",
       "      <td>0.0</td>\n",
       "      <td>16.0</td>\n",
       "      <td>f</td>\n",
       "      <td>8665.82</td>\n",
       "      <td>8665.82</td>\n",
       "      <td>376.99</td>\n",
       "      <td>0.0</td>\n",
       "      <td>53899.0</td>\n",
       "    </tr>\n",
       "    <tr>\n",
       "      <th>369150</th>\n",
       "      <td>10150</td>\n",
       "      <td>10150</td>\n",
       "      <td>60</td>\n",
       "      <td>18.24</td>\n",
       "      <td>D</td>\n",
       "      <td>NONE</td>\n",
       "      <td>30000.0</td>\n",
       "      <td>Verified</td>\n",
       "      <td>27.30</td>\n",
       "      <td>0.0</td>\n",
       "      <td>7.0</td>\n",
       "      <td>0.0</td>\n",
       "      <td>13.0</td>\n",
       "      <td>w</td>\n",
       "      <td>4922.52</td>\n",
       "      <td>4922.52</td>\n",
       "      <td>259.08</td>\n",
       "      <td>0.0</td>\n",
       "      <td>29821.0</td>\n",
       "    </tr>\n",
       "    <tr>\n",
       "      <th>364736</th>\n",
       "      <td>8000</td>\n",
       "      <td>8000</td>\n",
       "      <td>36</td>\n",
       "      <td>11.67</td>\n",
       "      <td>B</td>\n",
       "      <td>NONE</td>\n",
       "      <td>57200.0</td>\n",
       "      <td>Not Verified</td>\n",
       "      <td>17.67</td>\n",
       "      <td>1.0</td>\n",
       "      <td>17.0</td>\n",
       "      <td>0.0</td>\n",
       "      <td>37.0</td>\n",
       "      <td>f</td>\n",
       "      <td>5024.74</td>\n",
       "      <td>5024.74</td>\n",
       "      <td>264.46</td>\n",
       "      <td>0.0</td>\n",
       "      <td>49505.0</td>\n",
       "    </tr>\n",
       "  </tbody>\n",
       "</table>\n",
       "</div>"
      ],
      "text/plain": [
       "        loan_amnt  funded_amnt term  int_rate grade home_ownership  \\\n",
       "298150      14300        14300   36     14.49     C            OWN   \n",
       "419894       5000         5000   36     22.45     E           NONE   \n",
       "101446       9925         9925   36     21.60     E            OWN   \n",
       "369150      10150        10150   60     18.24     D           NONE   \n",
       "364736       8000         8000   36     11.67     B           NONE   \n",
       "\n",
       "        annual_inc verification_status    dti  delinq_2yrs  open_acc  pub_rec  \\\n",
       "298150     60000.0            Verified   9.32          0.0       6.0      1.0   \n",
       "419894     48000.0            Verified  22.95          0.0       8.0      0.0   \n",
       "101446     28420.0            Verified  20.44          0.0       8.0      0.0   \n",
       "369150     30000.0            Verified  27.30          0.0       7.0      0.0   \n",
       "364736     57200.0        Not Verified  17.67          1.0      17.0      0.0   \n",
       "\n",
       "        total_acc initial_list_status  total_pymnt  total_pymnt_inv  \\\n",
       "298150       13.0                   f     16238.02         16238.02   \n",
       "419894       17.0                   f      6314.32          6314.32   \n",
       "101446       16.0                   f      8665.82          8665.82   \n",
       "369150       13.0                   w      4922.52          4922.52   \n",
       "364736       37.0                   f      5024.74          5024.74   \n",
       "\n",
       "        last_pymnt_amnt  acc_now_delinq  tot_cur_bal  \n",
       "298150         10332.10             0.0     264221.0  \n",
       "419894          3240.40             0.0      37229.0  \n",
       "101446           376.99             0.0      53899.0  \n",
       "369150           259.08             0.0      29821.0  \n",
       "364736           264.46             0.0      49505.0  "
      ]
     },
     "execution_count": 287,
     "metadata": {},
     "output_type": "execute_result"
    }
   ],
   "source": [
    "X_train.head()"
   ]
  },
  {
   "cell_type": "markdown",
   "metadata": {},
   "source": [
    "## 6.3 - Handling Outlier"
   ]
  },
  {
   "cell_type": "code",
   "execution_count": 288,
   "metadata": {},
   "outputs": [],
   "source": [
    "def diagnostic_plots(df, variable):\n",
    "    # Define figure size\n",
    "    plt.figure(figsize=(16, 4))\n",
    "\n",
    "    # Histogram\n",
    "    plt.subplot(1, 2, 1)\n",
    "    sns.histplot(df, bins=30) if variable is None else sns.histplot(df[variable], bins=30)\n",
    "    plt.title('Histogram')\n",
    "\n",
    "    # Boxplot\n",
    "    plt.subplot(1, 2, 2)\n",
    "    sns.boxplot(y=df) if variable is None else sns.boxplot(y=df[variable])\n",
    "    plt.title('Boxplot')\n",
    "\n",
    "    plt.show()"
   ]
  },
  {
   "cell_type": "code",
   "execution_count": 289,
   "metadata": {},
   "outputs": [],
   "source": [
    "def getDescribe(df, col):\n",
    "    min_value = df[col].min()\n",
    "    max_value = df[col].max()\n",
    "    average_value = df[col].mean()\n",
    "    mode_value = df[col].mode().iloc[0]\n",
    "\n",
    "    # Print the results\n",
    "    print(\"Minimum:\", min_value)\n",
    "    print(\"Maximum:\", max_value)\n",
    "    print(\"Average:\", average_value)\n",
    "    print(\"Mode:\", mode_value)"
   ]
  },
  {
   "cell_type": "code",
   "execution_count": 290,
   "metadata": {},
   "outputs": [
    {
     "name": "stdout",
     "output_type": "stream",
     "text": [
      "Minimum: 1896.0\n",
      "Maximum: 7500000.0\n",
      "Average: 73239.63143004266\n",
      "Mode: 60000.0\n"
     ]
    }
   ],
   "source": [
    "getDescribe(X_train, 'annual_inc')"
   ]
  },
  {
   "cell_type": "code",
   "execution_count": 291,
   "metadata": {},
   "outputs": [
    {
     "data": {
      "image/png": "[encoded data removed]",
      "text/plain": [
       "<Figure size 1600x400 with 2 Axes>"
      ]
     },
     "metadata": {},
     "output_type": "display_data"
    }
   ],
   "source": [
    "diagnostic_plots(X_train, 'annual_inc')"
   ]
  },
  {
   "cell_type": "code",
   "execution_count": 292,
   "metadata": {},
   "outputs": [
    {
     "name": "stdout",
     "output_type": "stream",
     "text": [
      "Minimum: 0.0\n",
      "Maximum: 8000078.0\n",
      "Average: 117962.7888286046\n",
      "Mode: 0.0\n"
     ]
    }
   ],
   "source": [
    "getDescribe(X_train, 'tot_cur_bal')"
   ]
  },
  {
   "cell_type": "code",
   "execution_count": 293,
   "metadata": {},
   "outputs": [
    {
     "data": {
      "image/png": "[encoded data removed]",
      "text/plain": [
       "<Figure size 1600x400 with 2 Axes>"
      ]
     },
     "metadata": {},
     "output_type": "display_data"
    }
   ],
   "source": [
    "diagnostic_plots(X_train, 'tot_cur_bal')"
   ]
  },
  {
   "cell_type": "markdown",
   "metadata": {},
   "source": [
    "We decide to use Tukey's Rule technique to handle the outliers because the data distribution for both column is not normal (Skewed distribution)."
   ]
  },
  {
   "cell_type": "code",
   "execution_count": 294,
   "metadata": {},
   "outputs": [],
   "source": [
    "def getTukeysRuleBoundary(df, col, iqr_wide):\n",
    "    IQR = df[col].quantile(0.75) - df[col].quantile(0.25)\n",
    "    lower_boundary = df[col].quantile(0.25) - (IQR * iqr_wide)\n",
    "    upper_boundary = df[col].quantile(0.75) + (IQR * iqr_wide)\n",
    "\n",
    "    print(f'Lower Boundary {col} : {lower_boundary}')\n",
    "    print(f'Upper Boundary {col} : {upper_boundary}')\n",
    "\n",
    "    return lower_boundary, upper_boundary\n",
    "\n",
    "def getPrecentageOutliers(df, col, upper_b):\n",
    "    print('Total Data : {}'.format(len(df)))\n",
    "    print('Data which ' + col + ' more than ' + str(upper_b) + ' : {}'.format(len(df[df[col] > upper_b])))\n",
    "    print('% Data which ' + col + ' more than ' + str(upper_b) + ' : {}'.format(len(df[df[col] > upper_b])/len(df) * 100))"
   ]
  },
  {
   "cell_type": "code",
   "execution_count": 295,
   "metadata": {},
   "outputs": [
    {
     "name": "stdout",
     "output_type": "stream",
     "text": [
      "Lower Boundary annual_inc : -20964.0\n",
      "Upper Boundary annual_inc : 154940.0\n",
      "Lower Boundary tot_cur_bal : -239085.75\n",
      "Upper Boundary tot_cur_bal : 439708.25\n"
     ]
    }
   ],
   "source": [
    "lower_b_annual_inc, upper_b_annual_inc = getTukeysRuleBoundary(X_train, 'annual_inc', 1.5)\n",
    "lower_b_tot_cur_bal, upper_b_tot_cur_bal = getTukeysRuleBoundary(X_train, 'tot_cur_bal', 1.5)"
   ]
  },
  {
   "cell_type": "code",
   "execution_count": 296,
   "metadata": {},
   "outputs": [
    {
     "name": "stdout",
     "output_type": "stream",
     "text": [
      "Total Data : 372863\n",
      "Data which annual_inc more than 154940.0 : 15877\n",
      "% Data which annual_inc more than 154940.0 : 4.2581323435149105\n",
      "-----------------------------------------------------------------\n",
      "Total Data : 372863\n",
      "Data which tot_cur_bal more than 439708.25 : 13457\n",
      "% Data which tot_cur_bal more than 439708.25 : 3.6091003934420955\n"
     ]
    }
   ],
   "source": [
    "getPrecentageOutliers(X_train, 'annual_inc', upper_b_annual_inc)\n",
    "print('-----------------------------------------------------------------')\n",
    "getPrecentageOutliers(X_train, 'tot_cur_bal', upper_b_tot_cur_bal)"
   ]
  },
  {
   "cell_type": "markdown",
   "metadata": {},
   "source": [
    "Total outliers for column annual_inc and tot_cur_bal is 3~4% of the total data, so it's safe to perform outliers handling."
   ]
  },
  {
   "cell_type": "code",
   "execution_count": 297,
   "metadata": {},
   "outputs": [
    {
     "name": "stdout",
     "output_type": "stream",
     "text": [
      "Size X_train - Before trimming :  (372863, 19)\n",
      "Size X_train - After trimming  :  (362104, 19)\n",
      "\n",
      "Size y_train - Before trimming :  (372863,)\n",
      "Size y_train - After trimming  :  (362104,)\n"
     ]
    }
   ],
   "source": [
    "# Flag the outliers in column `annual_inc`\n",
    "outliers_annual_inc = np.where(X_train['annual_inc'] > upper_b_annual_inc, True, np.where(X_train['annual_inc'] < lower_b_annual_inc, True, False))\n",
    "\n",
    "# Flag the outliers in column `tot_cur_bal`\n",
    "outliers_tot_cur_bal = np.where(X_train['tot_cur_bal'] > upper_b_tot_cur_bal, True, np.where(X_train['tot_cur_bal'] < lower_b_tot_cur_bal, True, False))\n",
    "\n",
    "# Trimming the dataset\n",
    "X_train_trimmed = X_train.loc[~(outliers_annual_inc) + (outliers_tot_cur_bal)]\n",
    "y_train_trimmed = y_train.loc[~(outliers_annual_inc) + (outliers_tot_cur_bal)]\n",
    "\n",
    "print('Size X_train - Before trimming : ', X_train.shape)\n",
    "print('Size X_train - After trimming  : ', X_train_trimmed.shape)\n",
    "print('')\n",
    "print('Size y_train - Before trimming : ', y_train.shape)\n",
    "print('Size y_train - After trimming  : ', y_train_trimmed.shape)"
   ]
  },
  {
   "cell_type": "code",
   "execution_count": 298,
   "metadata": {},
   "outputs": [
    {
     "data": {
      "text/html": [
       "<div>\n",
       "<style scoped>\n",
       "    .dataframe tbody tr th:only-of-type {\n",
       "        vertical-align: middle;\n",
       "    }\n",
       "\n",
       "    .dataframe tbody tr th {\n",
       "        vertical-align: top;\n",
       "    }\n",
       "\n",
       "    .dataframe thead th {\n",
       "        text-align: right;\n",
       "    }\n",
       "</style>\n",
       "<table border=\"1\" class=\"dataframe\">\n",
       "  <thead>\n",
       "    <tr style=\"text-align: right;\">\n",
       "      <th></th>\n",
       "      <th>loan_amnt</th>\n",
       "      <th>funded_amnt</th>\n",
       "      <th>term</th>\n",
       "      <th>int_rate</th>\n",
       "      <th>grade</th>\n",
       "      <th>home_ownership</th>\n",
       "      <th>annual_inc</th>\n",
       "      <th>verification_status</th>\n",
       "      <th>dti</th>\n",
       "      <th>delinq_2yrs</th>\n",
       "      <th>open_acc</th>\n",
       "      <th>pub_rec</th>\n",
       "      <th>total_acc</th>\n",
       "      <th>initial_list_status</th>\n",
       "      <th>total_pymnt</th>\n",
       "      <th>total_pymnt_inv</th>\n",
       "      <th>last_pymnt_amnt</th>\n",
       "      <th>acc_now_delinq</th>\n",
       "      <th>tot_cur_bal</th>\n",
       "    </tr>\n",
       "  </thead>\n",
       "  <tbody>\n",
       "    <tr>\n",
       "      <th>298150</th>\n",
       "      <td>14300</td>\n",
       "      <td>14300</td>\n",
       "      <td>36</td>\n",
       "      <td>14.49</td>\n",
       "      <td>C</td>\n",
       "      <td>OWN</td>\n",
       "      <td>60000.0</td>\n",
       "      <td>Verified</td>\n",
       "      <td>9.32</td>\n",
       "      <td>0.0</td>\n",
       "      <td>6.0</td>\n",
       "      <td>1.0</td>\n",
       "      <td>13.0</td>\n",
       "      <td>f</td>\n",
       "      <td>16238.02</td>\n",
       "      <td>16238.02</td>\n",
       "      <td>10332.10</td>\n",
       "      <td>0.0</td>\n",
       "      <td>264221.0</td>\n",
       "    </tr>\n",
       "    <tr>\n",
       "      <th>419894</th>\n",
       "      <td>5000</td>\n",
       "      <td>5000</td>\n",
       "      <td>36</td>\n",
       "      <td>22.45</td>\n",
       "      <td>E</td>\n",
       "      <td>NONE</td>\n",
       "      <td>48000.0</td>\n",
       "      <td>Verified</td>\n",
       "      <td>22.95</td>\n",
       "      <td>0.0</td>\n",
       "      <td>8.0</td>\n",
       "      <td>0.0</td>\n",
       "      <td>17.0</td>\n",
       "      <td>f</td>\n",
       "      <td>6314.32</td>\n",
       "      <td>6314.32</td>\n",
       "      <td>3240.40</td>\n",
       "      <td>0.0</td>\n",
       "      <td>37229.0</td>\n",
       "    </tr>\n",
       "    <tr>\n",
       "      <th>101446</th>\n",
       "      <td>9925</td>\n",
       "      <td>9925</td>\n",
       "      <td>36</td>\n",
       "      <td>21.60</td>\n",
       "      <td>E</td>\n",
       "      <td>OWN</td>\n",
       "      <td>28420.0</td>\n",
       "      <td>Verified</td>\n",
       "      <td>20.44</td>\n",
       "      <td>0.0</td>\n",
       "      <td>8.0</td>\n",
       "      <td>0.0</td>\n",
       "      <td>16.0</td>\n",
       "      <td>f</td>\n",
       "      <td>8665.82</td>\n",
       "      <td>8665.82</td>\n",
       "      <td>376.99</td>\n",
       "      <td>0.0</td>\n",
       "      <td>53899.0</td>\n",
       "    </tr>\n",
       "    <tr>\n",
       "      <th>369150</th>\n",
       "      <td>10150</td>\n",
       "      <td>10150</td>\n",
       "      <td>60</td>\n",
       "      <td>18.24</td>\n",
       "      <td>D</td>\n",
       "      <td>NONE</td>\n",
       "      <td>30000.0</td>\n",
       "      <td>Verified</td>\n",
       "      <td>27.30</td>\n",
       "      <td>0.0</td>\n",
       "      <td>7.0</td>\n",
       "      <td>0.0</td>\n",
       "      <td>13.0</td>\n",
       "      <td>w</td>\n",
       "      <td>4922.52</td>\n",
       "      <td>4922.52</td>\n",
       "      <td>259.08</td>\n",
       "      <td>0.0</td>\n",
       "      <td>29821.0</td>\n",
       "    </tr>\n",
       "    <tr>\n",
       "      <th>364736</th>\n",
       "      <td>8000</td>\n",
       "      <td>8000</td>\n",
       "      <td>36</td>\n",
       "      <td>11.67</td>\n",
       "      <td>B</td>\n",
       "      <td>NONE</td>\n",
       "      <td>57200.0</td>\n",
       "      <td>Not Verified</td>\n",
       "      <td>17.67</td>\n",
       "      <td>1.0</td>\n",
       "      <td>17.0</td>\n",
       "      <td>0.0</td>\n",
       "      <td>37.0</td>\n",
       "      <td>f</td>\n",
       "      <td>5024.74</td>\n",
       "      <td>5024.74</td>\n",
       "      <td>264.46</td>\n",
       "      <td>0.0</td>\n",
       "      <td>49505.0</td>\n",
       "    </tr>\n",
       "  </tbody>\n",
       "</table>\n",
       "</div>"
      ],
      "text/plain": [
       "        loan_amnt  funded_amnt term  int_rate grade home_ownership  \\\n",
       "298150      14300        14300   36     14.49     C            OWN   \n",
       "419894       5000         5000   36     22.45     E           NONE   \n",
       "101446       9925         9925   36     21.60     E            OWN   \n",
       "369150      10150        10150   60     18.24     D           NONE   \n",
       "364736       8000         8000   36     11.67     B           NONE   \n",
       "\n",
       "        annual_inc verification_status    dti  delinq_2yrs  open_acc  pub_rec  \\\n",
       "298150     60000.0            Verified   9.32          0.0       6.0      1.0   \n",
       "419894     48000.0            Verified  22.95          0.0       8.0      0.0   \n",
       "101446     28420.0            Verified  20.44          0.0       8.0      0.0   \n",
       "369150     30000.0            Verified  27.30          0.0       7.0      0.0   \n",
       "364736     57200.0        Not Verified  17.67          1.0      17.0      0.0   \n",
       "\n",
       "        total_acc initial_list_status  total_pymnt  total_pymnt_inv  \\\n",
       "298150       13.0                   f     16238.02         16238.02   \n",
       "419894       17.0                   f      6314.32          6314.32   \n",
       "101446       16.0                   f      8665.82          8665.82   \n",
       "369150       13.0                   w      4922.52          4922.52   \n",
       "364736       37.0                   f      5024.74          5024.74   \n",
       "\n",
       "        last_pymnt_amnt  acc_now_delinq  tot_cur_bal  \n",
       "298150         10332.10             0.0     264221.0  \n",
       "419894          3240.40             0.0      37229.0  \n",
       "101446           376.99             0.0      53899.0  \n",
       "369150           259.08             0.0      29821.0  \n",
       "364736           264.46             0.0      49505.0  "
      ]
     },
     "execution_count": 298,
     "metadata": {},
     "output_type": "execute_result"
    }
   ],
   "source": [
    "# Split Numercal and Categorical\n",
    "X_train_trimmed.head()"
   ]
  },
  {
   "cell_type": "markdown",
   "metadata": {},
   "source": [
    "Outliers in column `annual_inc` and `tot_cur_bal` has been successfully handled."
   ]
  },
  {
   "cell_type": "markdown",
   "metadata": {},
   "source": [
    "## 6.4 - Split Numerical and Categorical Column"
   ]
  },
  {
   "cell_type": "code",
   "execution_count": 304,
   "metadata": {},
   "outputs": [],
   "source": [
    "# num_col_normal = []\n",
    "num_col_skew = ['loan_amnt', 'funded_amnt', 'int_rate', 'annual_inc', 'dti', 'delinq_2yrs', 'open_acc', 'pub_rec', \n",
    "                'total_acc', 'total_pymnt', 'total_pymnt_inv', 'last_pymnt_amnt', 'acc_now_delinq', 'tot_cur_bal']\n",
    "cat_col_ordinal = ['grade']\n",
    "cat_col_nominal = ['term', 'home_ownership', 'verification_status', 'initial_list_status']"
   ]
  },
  {
   "cell_type": "code",
   "execution_count": 305,
   "metadata": {},
   "outputs": [],
   "source": [
    "X_train_num_s = X_train_trimmed[num_col_skew]\n",
    "X_train_cat_o = X_train_trimmed[cat_col_ordinal]\n",
    "X_train_cat_n = X_train_trimmed[cat_col_nominal]\n",
    "\n",
    "X_test_num_s = X_test[num_col_skew]\n",
    "X_test_cat_o = X_test[cat_col_ordinal]\n",
    "X_test_cat_n = X_test[cat_col_nominal]"
   ]
  },
  {
   "cell_type": "markdown",
   "metadata": {},
   "source": [
    "## 6.5 - Feature Scaling"
   ]
  },
  {
   "cell_type": "markdown",
   "metadata": {},
   "source": [
    "### 6.5.1 - Scaling Skew Data"
   ]
  },
  {
   "cell_type": "code",
   "execution_count": 306,
   "metadata": {},
   "outputs": [
    {
     "data": {
      "text/html": [
       "<style>#sk-container-id-1 {color: black;background-color: white;}#sk-container-id-1 pre{padding: 0;}#sk-container-id-1 div.sk-toggleable {background-color: white;}#sk-container-id-1 label.sk-toggleable__label {cursor: pointer;display: block;width: 100%;margin-bottom: 0;padding: 0.3em;box-sizing: border-box;text-align: center;}#sk-container-id-1 label.sk-toggleable__label-arrow:before {content: \"▸\";float: left;margin-right: 0.25em;color: #696969;}#sk-container-id-1 label.sk-toggleable__label-arrow:hover:before {color: black;}#sk-container-id-1 div.sk-estimator:hover label.sk-toggleable__label-arrow:before {color: black;}#sk-container-id-1 div.sk-toggleable__content {max-height: 0;max-width: 0;overflow: hidden;text-align: left;background-color: #f0f8ff;}#sk-container-id-1 div.sk-toggleable__content pre {margin: 0.2em;color: black;border-radius: 0.25em;background-color: #f0f8ff;}#sk-container-id-1 input.sk-toggleable__control:checked~div.sk-toggleable__content {max-height: 200px;max-width: 100%;overflow: auto;}#sk-container-id-1 input.sk-toggleable__control:checked~label.sk-toggleable__label-arrow:before {content: \"▾\";}#sk-container-id-1 div.sk-estimator input.sk-toggleable__control:checked~label.sk-toggleable__label {background-color: #d4ebff;}#sk-container-id-1 div.sk-label input.sk-toggleable__control:checked~label.sk-toggleable__label {background-color: #d4ebff;}#sk-container-id-1 input.sk-hidden--visually {border: 0;clip: rect(1px 1px 1px 1px);clip: rect(1px, 1px, 1px, 1px);height: 1px;margin: -1px;overflow: hidden;padding: 0;position: absolute;width: 1px;}#sk-container-id-1 div.sk-estimator {font-family: monospace;background-color: #f0f8ff;border: 1px dotted black;border-radius: 0.25em;box-sizing: border-box;margin-bottom: 0.5em;}#sk-container-id-1 div.sk-estimator:hover {background-color: #d4ebff;}#sk-container-id-1 div.sk-parallel-item::after {content: \"\";width: 100%;border-bottom: 1px solid gray;flex-grow: 1;}#sk-container-id-1 div.sk-label:hover label.sk-toggleable__label {background-color: #d4ebff;}#sk-container-id-1 div.sk-serial::before {content: \"\";position: absolute;border-left: 1px solid gray;box-sizing: border-box;top: 0;bottom: 0;left: 50%;z-index: 0;}#sk-container-id-1 div.sk-serial {display: flex;flex-direction: column;align-items: center;background-color: white;padding-right: 0.2em;padding-left: 0.2em;position: relative;}#sk-container-id-1 div.sk-item {position: relative;z-index: 1;}#sk-container-id-1 div.sk-parallel {display: flex;align-items: stretch;justify-content: center;background-color: white;position: relative;}#sk-container-id-1 div.sk-item::before, #sk-container-id-1 div.sk-parallel-item::before {content: \"\";position: absolute;border-left: 1px solid gray;box-sizing: border-box;top: 0;bottom: 0;left: 50%;z-index: -1;}#sk-container-id-1 div.sk-parallel-item {display: flex;flex-direction: column;z-index: 1;position: relative;background-color: white;}#sk-container-id-1 div.sk-parallel-item:first-child::after {align-self: flex-end;width: 50%;}#sk-container-id-1 div.sk-parallel-item:last-child::after {align-self: flex-start;width: 50%;}#sk-container-id-1 div.sk-parallel-item:only-child::after {width: 0;}#sk-container-id-1 div.sk-dashed-wrapped {border: 1px dashed gray;margin: 0 0.4em 0.5em 0.4em;box-sizing: border-box;padding-bottom: 0.4em;background-color: white;}#sk-container-id-1 div.sk-label label {font-family: monospace;font-weight: bold;display: inline-block;line-height: 1.2em;}#sk-container-id-1 div.sk-label-container {text-align: center;}#sk-container-id-1 div.sk-container {/* jupyter's `normalize.less` sets `[hidden] { display: none; }` but bootstrap.min.css set `[hidden] { display: none !important; }` so we also need the `!important` here to be able to override the default hidden behavior on the sphinx rendered scikit-learn.org. See: https://github.com/scikit-learn/scikit-learn/issues/21755 */display: inline-block !important;position: relative;}#sk-container-id-1 div.sk-text-repr-fallback {display: none;}</style><div id=\"sk-container-id-1\" class=\"sk-top-container\"><div class=\"sk-text-repr-fallback\"><pre>MinMaxScaler()</pre><b>In a Jupyter environment, please rerun this cell to show the HTML representation or trust the notebook. <br />On GitHub, the HTML representation is unable to render, please try loading this page with nbviewer.org.</b></div><div class=\"sk-container\" hidden><div class=\"sk-item\"><div class=\"sk-estimator sk-toggleable\"><input class=\"sk-toggleable__control sk-hidden--visually\" id=\"sk-estimator-id-1\" type=\"checkbox\" checked><label for=\"sk-estimator-id-1\" class=\"sk-toggleable__label sk-toggleable__label-arrow\">MinMaxScaler</label><div class=\"sk-toggleable__content\"><pre>MinMaxScaler()</pre></div></div></div></div></div>"
      ],
      "text/plain": [
       "MinMaxScaler()"
      ]
     },
     "execution_count": 306,
     "metadata": {},
     "output_type": "execute_result"
    }
   ],
   "source": [
    "#Scaling Numerical Column with Skew Data\n",
    "scaler_mm = MinMaxScaler()\n",
    "scaler_mm.fit(X_train_num_s)"
   ]
  },
  {
   "cell_type": "code",
   "execution_count": 307,
   "metadata": {},
   "outputs": [],
   "source": [
    "X_train_num_s_scaled = scaler_mm.transform(X_train_num_s)\n",
    "X_test_num_s_scaled = scaler_mm.transform(X_test_num_s)"
   ]
  },
  {
   "cell_type": "code",
   "execution_count": 310,
   "metadata": {},
   "outputs": [
    {
     "data": {
      "text/plain": [
       "array([[0.4       , 0.4       , 0.43943798, ..., 0.28565275, 0.        ,\n",
       "        0.0330273 ],\n",
       "       [0.13043478, 0.13043478, 0.8250969 , ..., 0.08958771, 0.        ,\n",
       "        0.00465358],\n",
       "       [0.27318841, 0.27318841, 0.78391473, ..., 0.01042269, 0.        ,\n",
       "        0.00673731],\n",
       "       ...,\n",
       "       [0.24275362, 0.24275362, 0.43168605, ..., 0.20817088, 0.        ,\n",
       "        0.00940503],\n",
       "       [0.91014493, 0.91014493, 0.36676357, ..., 0.02006241, 0.        ,\n",
       "        0.03021133],\n",
       "       [0.75362319, 0.75362319, 0.71608527, ..., 0.0194926 , 0.        ,\n",
       "        0.0056342 ]])"
      ]
     },
     "execution_count": 310,
     "metadata": {},
     "output_type": "execute_result"
    }
   ],
   "source": [
    "X_train_num_s_scaled"
   ]
  },
  {
   "cell_type": "markdown",
   "metadata": {},
   "source": [
    "## 6.6 - Feature Encoding"
   ]
  },
  {
   "cell_type": "markdown",
   "metadata": {},
   "source": [
    "### 6.6.1 - Ordinal Encoding"
   ]
  },
  {
   "cell_type": "code",
   "execution_count": 312,
   "metadata": {},
   "outputs": [
    {
     "name": "stdout",
     "output_type": "stream",
     "text": [
      "['C' 'E' 'D' 'B' 'F' 'A' 'G']\n"
     ]
    }
   ],
   "source": [
    "print(X_train['grade'].unique())"
   ]
  },
  {
   "cell_type": "code",
   "execution_count": 313,
   "metadata": {},
   "outputs": [],
   "source": [
    "gradeOrder = ['A', 'B', 'C', 'D', 'E', 'F', 'G']"
   ]
  },
  {
   "cell_type": "code",
   "execution_count": 314,
   "metadata": {},
   "outputs": [
    {
     "data": {
      "text/html": [
       "<style>#sk-container-id-2 {color: black;background-color: white;}#sk-container-id-2 pre{padding: 0;}#sk-container-id-2 div.sk-toggleable {background-color: white;}#sk-container-id-2 label.sk-toggleable__label {cursor: pointer;display: block;width: 100%;margin-bottom: 0;padding: 0.3em;box-sizing: border-box;text-align: center;}#sk-container-id-2 label.sk-toggleable__label-arrow:before {content: \"▸\";float: left;margin-right: 0.25em;color: #696969;}#sk-container-id-2 label.sk-toggleable__label-arrow:hover:before {color: black;}#sk-container-id-2 div.sk-estimator:hover label.sk-toggleable__label-arrow:before {color: black;}#sk-container-id-2 div.sk-toggleable__content {max-height: 0;max-width: 0;overflow: hidden;text-align: left;background-color: #f0f8ff;}#sk-container-id-2 div.sk-toggleable__content pre {margin: 0.2em;color: black;border-radius: 0.25em;background-color: #f0f8ff;}#sk-container-id-2 input.sk-toggleable__control:checked~div.sk-toggleable__content {max-height: 200px;max-width: 100%;overflow: auto;}#sk-container-id-2 input.sk-toggleable__control:checked~label.sk-toggleable__label-arrow:before {content: \"▾\";}#sk-container-id-2 div.sk-estimator input.sk-toggleable__control:checked~label.sk-toggleable__label {background-color: #d4ebff;}#sk-container-id-2 div.sk-label input.sk-toggleable__control:checked~label.sk-toggleable__label {background-color: #d4ebff;}#sk-container-id-2 input.sk-hidden--visually {border: 0;clip: rect(1px 1px 1px 1px);clip: rect(1px, 1px, 1px, 1px);height: 1px;margin: -1px;overflow: hidden;padding: 0;position: absolute;width: 1px;}#sk-container-id-2 div.sk-estimator {font-family: monospace;background-color: #f0f8ff;border: 1px dotted black;border-radius: 0.25em;box-sizing: border-box;margin-bottom: 0.5em;}#sk-container-id-2 div.sk-estimator:hover {background-color: #d4ebff;}#sk-container-id-2 div.sk-parallel-item::after {content: \"\";width: 100%;border-bottom: 1px solid gray;flex-grow: 1;}#sk-container-id-2 div.sk-label:hover label.sk-toggleable__label {background-color: #d4ebff;}#sk-container-id-2 div.sk-serial::before {content: \"\";position: absolute;border-left: 1px solid gray;box-sizing: border-box;top: 0;bottom: 0;left: 50%;z-index: 0;}#sk-container-id-2 div.sk-serial {display: flex;flex-direction: column;align-items: center;background-color: white;padding-right: 0.2em;padding-left: 0.2em;position: relative;}#sk-container-id-2 div.sk-item {position: relative;z-index: 1;}#sk-container-id-2 div.sk-parallel {display: flex;align-items: stretch;justify-content: center;background-color: white;position: relative;}#sk-container-id-2 div.sk-item::before, #sk-container-id-2 div.sk-parallel-item::before {content: \"\";position: absolute;border-left: 1px solid gray;box-sizing: border-box;top: 0;bottom: 0;left: 50%;z-index: -1;}#sk-container-id-2 div.sk-parallel-item {display: flex;flex-direction: column;z-index: 1;position: relative;background-color: white;}#sk-container-id-2 div.sk-parallel-item:first-child::after {align-self: flex-end;width: 50%;}#sk-container-id-2 div.sk-parallel-item:last-child::after {align-self: flex-start;width: 50%;}#sk-container-id-2 div.sk-parallel-item:only-child::after {width: 0;}#sk-container-id-2 div.sk-dashed-wrapped {border: 1px dashed gray;margin: 0 0.4em 0.5em 0.4em;box-sizing: border-box;padding-bottom: 0.4em;background-color: white;}#sk-container-id-2 div.sk-label label {font-family: monospace;font-weight: bold;display: inline-block;line-height: 1.2em;}#sk-container-id-2 div.sk-label-container {text-align: center;}#sk-container-id-2 div.sk-container {/* jupyter's `normalize.less` sets `[hidden] { display: none; }` but bootstrap.min.css set `[hidden] { display: none !important; }` so we also need the `!important` here to be able to override the default hidden behavior on the sphinx rendered scikit-learn.org. See: https://github.com/scikit-learn/scikit-learn/issues/21755 */display: inline-block !important;position: relative;}#sk-container-id-2 div.sk-text-repr-fallback {display: none;}</style><div id=\"sk-container-id-2\" class=\"sk-top-container\"><div class=\"sk-text-repr-fallback\"><pre>OrdinalEncoder(categories=[[&#x27;A&#x27;, &#x27;B&#x27;, &#x27;C&#x27;, &#x27;D&#x27;, &#x27;E&#x27;, &#x27;F&#x27;, &#x27;G&#x27;]])</pre><b>In a Jupyter environment, please rerun this cell to show the HTML representation or trust the notebook. <br />On GitHub, the HTML representation is unable to render, please try loading this page with nbviewer.org.</b></div><div class=\"sk-container\" hidden><div class=\"sk-item\"><div class=\"sk-estimator sk-toggleable\"><input class=\"sk-toggleable__control sk-hidden--visually\" id=\"sk-estimator-id-2\" type=\"checkbox\" checked><label for=\"sk-estimator-id-2\" class=\"sk-toggleable__label sk-toggleable__label-arrow\">OrdinalEncoder</label><div class=\"sk-toggleable__content\"><pre>OrdinalEncoder(categories=[[&#x27;A&#x27;, &#x27;B&#x27;, &#x27;C&#x27;, &#x27;D&#x27;, &#x27;E&#x27;, &#x27;F&#x27;, &#x27;G&#x27;]])</pre></div></div></div></div></div>"
      ],
      "text/plain": [
       "OrdinalEncoder(categories=[['A', 'B', 'C', 'D', 'E', 'F', 'G']])"
      ]
     },
     "execution_count": 314,
     "metadata": {},
     "output_type": "execute_result"
    }
   ],
   "source": [
    "od_encoder = OrdinalEncoder(categories=[gradeOrder])\n",
    "od_encoder.fit(X_train_cat_o)"
   ]
  },
  {
   "cell_type": "code",
   "execution_count": 315,
   "metadata": {},
   "outputs": [],
   "source": [
    "X_train_cat_o_encoded = od_encoder.transform(X_train_cat_o)\n",
    "X_test_cat_o_encoded = od_encoder.transform(X_test_cat_o)"
   ]
  },
  {
   "cell_type": "code",
   "execution_count": 316,
   "metadata": {},
   "outputs": [
    {
     "data": {
      "text/plain": [
       "array([[2.],\n",
       "       [4.],\n",
       "       [4.],\n",
       "       ...,\n",
       "       [2.],\n",
       "       [2.],\n",
       "       [3.]])"
      ]
     },
     "execution_count": 316,
     "metadata": {},
     "output_type": "execute_result"
    }
   ],
   "source": [
    "X_train_cat_o_encoded"
   ]
  },
  {
   "cell_type": "markdown",
   "metadata": {},
   "source": [
    "### 6.6.2 - Nominal Encoding"
   ]
  },
  {
   "cell_type": "code",
   "execution_count": 317,
   "metadata": {},
   "outputs": [
    {
     "data": {
      "text/html": [
       "<style>#sk-container-id-3 {color: black;background-color: white;}#sk-container-id-3 pre{padding: 0;}#sk-container-id-3 div.sk-toggleable {background-color: white;}#sk-container-id-3 label.sk-toggleable__label {cursor: pointer;display: block;width: 100%;margin-bottom: 0;padding: 0.3em;box-sizing: border-box;text-align: center;}#sk-container-id-3 label.sk-toggleable__label-arrow:before {content: \"▸\";float: left;margin-right: 0.25em;color: #696969;}#sk-container-id-3 label.sk-toggleable__label-arrow:hover:before {color: black;}#sk-container-id-3 div.sk-estimator:hover label.sk-toggleable__label-arrow:before {color: black;}#sk-container-id-3 div.sk-toggleable__content {max-height: 0;max-width: 0;overflow: hidden;text-align: left;background-color: #f0f8ff;}#sk-container-id-3 div.sk-toggleable__content pre {margin: 0.2em;color: black;border-radius: 0.25em;background-color: #f0f8ff;}#sk-container-id-3 input.sk-toggleable__control:checked~div.sk-toggleable__content {max-height: 200px;max-width: 100%;overflow: auto;}#sk-container-id-3 input.sk-toggleable__control:checked~label.sk-toggleable__label-arrow:before {content: \"▾\";}#sk-container-id-3 div.sk-estimator input.sk-toggleable__control:checked~label.sk-toggleable__label {background-color: #d4ebff;}#sk-container-id-3 div.sk-label input.sk-toggleable__control:checked~label.sk-toggleable__label {background-color: #d4ebff;}#sk-container-id-3 input.sk-hidden--visually {border: 0;clip: rect(1px 1px 1px 1px);clip: rect(1px, 1px, 1px, 1px);height: 1px;margin: -1px;overflow: hidden;padding: 0;position: absolute;width: 1px;}#sk-container-id-3 div.sk-estimator {font-family: monospace;background-color: #f0f8ff;border: 1px dotted black;border-radius: 0.25em;box-sizing: border-box;margin-bottom: 0.5em;}#sk-container-id-3 div.sk-estimator:hover {background-color: #d4ebff;}#sk-container-id-3 div.sk-parallel-item::after {content: \"\";width: 100%;border-bottom: 1px solid gray;flex-grow: 1;}#sk-container-id-3 div.sk-label:hover label.sk-toggleable__label {background-color: #d4ebff;}#sk-container-id-3 div.sk-serial::before {content: \"\";position: absolute;border-left: 1px solid gray;box-sizing: border-box;top: 0;bottom: 0;left: 50%;z-index: 0;}#sk-container-id-3 div.sk-serial {display: flex;flex-direction: column;align-items: center;background-color: white;padding-right: 0.2em;padding-left: 0.2em;position: relative;}#sk-container-id-3 div.sk-item {position: relative;z-index: 1;}#sk-container-id-3 div.sk-parallel {display: flex;align-items: stretch;justify-content: center;background-color: white;position: relative;}#sk-container-id-3 div.sk-item::before, #sk-container-id-3 div.sk-parallel-item::before {content: \"\";position: absolute;border-left: 1px solid gray;box-sizing: border-box;top: 0;bottom: 0;left: 50%;z-index: -1;}#sk-container-id-3 div.sk-parallel-item {display: flex;flex-direction: column;z-index: 1;position: relative;background-color: white;}#sk-container-id-3 div.sk-parallel-item:first-child::after {align-self: flex-end;width: 50%;}#sk-container-id-3 div.sk-parallel-item:last-child::after {align-self: flex-start;width: 50%;}#sk-container-id-3 div.sk-parallel-item:only-child::after {width: 0;}#sk-container-id-3 div.sk-dashed-wrapped {border: 1px dashed gray;margin: 0 0.4em 0.5em 0.4em;box-sizing: border-box;padding-bottom: 0.4em;background-color: white;}#sk-container-id-3 div.sk-label label {font-family: monospace;font-weight: bold;display: inline-block;line-height: 1.2em;}#sk-container-id-3 div.sk-label-container {text-align: center;}#sk-container-id-3 div.sk-container {/* jupyter's `normalize.less` sets `[hidden] { display: none; }` but bootstrap.min.css set `[hidden] { display: none !important; }` so we also need the `!important` here to be able to override the default hidden behavior on the sphinx rendered scikit-learn.org. See: https://github.com/scikit-learn/scikit-learn/issues/21755 */display: inline-block !important;position: relative;}#sk-container-id-3 div.sk-text-repr-fallback {display: none;}</style><div id=\"sk-container-id-3\" class=\"sk-top-container\"><div class=\"sk-text-repr-fallback\"><pre>OneHotEncoder(handle_unknown=&#x27;ignore&#x27;)</pre><b>In a Jupyter environment, please rerun this cell to show the HTML representation or trust the notebook. <br />On GitHub, the HTML representation is unable to render, please try loading this page with nbviewer.org.</b></div><div class=\"sk-container\" hidden><div class=\"sk-item\"><div class=\"sk-estimator sk-toggleable\"><input class=\"sk-toggleable__control sk-hidden--visually\" id=\"sk-estimator-id-3\" type=\"checkbox\" checked><label for=\"sk-estimator-id-3\" class=\"sk-toggleable__label sk-toggleable__label-arrow\">OneHotEncoder</label><div class=\"sk-toggleable__content\"><pre>OneHotEncoder(handle_unknown=&#x27;ignore&#x27;)</pre></div></div></div></div></div>"
      ],
      "text/plain": [
       "OneHotEncoder(handle_unknown='ignore')"
      ]
     },
     "execution_count": 317,
     "metadata": {},
     "output_type": "execute_result"
    }
   ],
   "source": [
    "oh_encoder = OneHotEncoder(handle_unknown='ignore')\n",
    "oh_encoder.fit(X_train_cat_n)"
   ]
  },
  {
   "cell_type": "code",
   "execution_count": 318,
   "metadata": {},
   "outputs": [],
   "source": [
    "X_train_cat_n_encoded = oh_encoder.transform(X_train_cat_n).toarray()\n",
    "X_test_cat_n_encoded = oh_encoder.transform(X_test_cat_n).toarray()"
   ]
  },
  {
   "cell_type": "code",
   "execution_count": 319,
   "metadata": {},
   "outputs": [
    {
     "data": {
      "text/plain": [
       "array([[1., 0., 0., ..., 1., 1., 0.],\n",
       "       [1., 0., 1., ..., 1., 1., 0.],\n",
       "       [1., 0., 0., ..., 1., 1., 0.],\n",
       "       ...,\n",
       "       [1., 0., 1., ..., 1., 1., 0.],\n",
       "       [0., 1., 0., ..., 1., 0., 1.],\n",
       "       [0., 1., 1., ..., 1., 1., 0.]])"
      ]
     },
     "execution_count": 319,
     "metadata": {},
     "output_type": "execute_result"
    }
   ],
   "source": [
    "X_train_cat_n_encoded"
   ]
  },
  {
   "cell_type": "markdown",
   "metadata": {},
   "source": [
    "## 6.7 - Merge Data"
   ]
  },
  {
   "cell_type": "code",
   "execution_count": 321,
   "metadata": {},
   "outputs": [],
   "source": [
    "X_train_final = np.concatenate([X_train_num_s_scaled, X_train_cat_o_encoded, X_train_cat_n_encoded], axis=1)\n",
    "X_test_final = np.concatenate([X_test_num_s_scaled, X_test_cat_o_encoded, X_test_cat_n_encoded], axis=1)"
   ]
  },
  {
   "cell_type": "markdown",
   "metadata": {},
   "source": [
    "# 7 - Model Definition"
   ]
  },
  {
   "cell_type": "markdown",
   "metadata": {},
   "source": [
    "## 7.1 - Logistic Regression"
   ]
  },
  {
   "cell_type": "code",
   "execution_count": 322,
   "metadata": {},
   "outputs": [],
   "source": [
    "model_logreg = LogisticRegression()"
   ]
  },
  {
   "cell_type": "markdown",
   "metadata": {},
   "source": [
    "## 7.2 - KNN"
   ]
  },
  {
   "cell_type": "code",
   "execution_count": 323,
   "metadata": {},
   "outputs": [],
   "source": [
    "model_knn = KNeighborsClassifier(n_neighbors=3)"
   ]
  },
  {
   "cell_type": "markdown",
   "metadata": {},
   "source": [
    "## 7.3 - Random Forest"
   ]
  },
  {
   "cell_type": "code",
   "execution_count": 326,
   "metadata": {},
   "outputs": [],
   "source": [
    "model_rf = RandomForestClassifier()"
   ]
  },
  {
   "cell_type": "markdown",
   "metadata": {},
   "source": [
    "# 8 - Model Training"
   ]
  },
  {
   "cell_type": "markdown",
   "metadata": {},
   "source": [
    "## 8.1 - Logistic Regression Training"
   ]
  },
  {
   "cell_type": "code",
   "execution_count": 327,
   "metadata": {},
   "outputs": [
    {
     "data": {
      "text/html": [
       "<style>#sk-container-id-4 {color: black;background-color: white;}#sk-container-id-4 pre{padding: 0;}#sk-container-id-4 div.sk-toggleable {background-color: white;}#sk-container-id-4 label.sk-toggleable__label {cursor: pointer;display: block;width: 100%;margin-bottom: 0;padding: 0.3em;box-sizing: border-box;text-align: center;}#sk-container-id-4 label.sk-toggleable__label-arrow:before {content: \"▸\";float: left;margin-right: 0.25em;color: #696969;}#sk-container-id-4 label.sk-toggleable__label-arrow:hover:before {color: black;}#sk-container-id-4 div.sk-estimator:hover label.sk-toggleable__label-arrow:before {color: black;}#sk-container-id-4 div.sk-toggleable__content {max-height: 0;max-width: 0;overflow: hidden;text-align: left;background-color: #f0f8ff;}#sk-container-id-4 div.sk-toggleable__content pre {margin: 0.2em;color: black;border-radius: 0.25em;background-color: #f0f8ff;}#sk-container-id-4 input.sk-toggleable__control:checked~div.sk-toggleable__content {max-height: 200px;max-width: 100%;overflow: auto;}#sk-container-id-4 input.sk-toggleable__control:checked~label.sk-toggleable__label-arrow:before {content: \"▾\";}#sk-container-id-4 div.sk-estimator input.sk-toggleable__control:checked~label.sk-toggleable__label {background-color: #d4ebff;}#sk-container-id-4 div.sk-label input.sk-toggleable__control:checked~label.sk-toggleable__label {background-color: #d4ebff;}#sk-container-id-4 input.sk-hidden--visually {border: 0;clip: rect(1px 1px 1px 1px);clip: rect(1px, 1px, 1px, 1px);height: 1px;margin: -1px;overflow: hidden;padding: 0;position: absolute;width: 1px;}#sk-container-id-4 div.sk-estimator {font-family: monospace;background-color: #f0f8ff;border: 1px dotted black;border-radius: 0.25em;box-sizing: border-box;margin-bottom: 0.5em;}#sk-container-id-4 div.sk-estimator:hover {background-color: #d4ebff;}#sk-container-id-4 div.sk-parallel-item::after {content: \"\";width: 100%;border-bottom: 1px solid gray;flex-grow: 1;}#sk-container-id-4 div.sk-label:hover label.sk-toggleable__label {background-color: #d4ebff;}#sk-container-id-4 div.sk-serial::before {content: \"\";position: absolute;border-left: 1px solid gray;box-sizing: border-box;top: 0;bottom: 0;left: 50%;z-index: 0;}#sk-container-id-4 div.sk-serial {display: flex;flex-direction: column;align-items: center;background-color: white;padding-right: 0.2em;padding-left: 0.2em;position: relative;}#sk-container-id-4 div.sk-item {position: relative;z-index: 1;}#sk-container-id-4 div.sk-parallel {display: flex;align-items: stretch;justify-content: center;background-color: white;position: relative;}#sk-container-id-4 div.sk-item::before, #sk-container-id-4 div.sk-parallel-item::before {content: \"\";position: absolute;border-left: 1px solid gray;box-sizing: border-box;top: 0;bottom: 0;left: 50%;z-index: -1;}#sk-container-id-4 div.sk-parallel-item {display: flex;flex-direction: column;z-index: 1;position: relative;background-color: white;}#sk-container-id-4 div.sk-parallel-item:first-child::after {align-self: flex-end;width: 50%;}#sk-container-id-4 div.sk-parallel-item:last-child::after {align-self: flex-start;width: 50%;}#sk-container-id-4 div.sk-parallel-item:only-child::after {width: 0;}#sk-container-id-4 div.sk-dashed-wrapped {border: 1px dashed gray;margin: 0 0.4em 0.5em 0.4em;box-sizing: border-box;padding-bottom: 0.4em;background-color: white;}#sk-container-id-4 div.sk-label label {font-family: monospace;font-weight: bold;display: inline-block;line-height: 1.2em;}#sk-container-id-4 div.sk-label-container {text-align: center;}#sk-container-id-4 div.sk-container {/* jupyter's `normalize.less` sets `[hidden] { display: none; }` but bootstrap.min.css set `[hidden] { display: none !important; }` so we also need the `!important` here to be able to override the default hidden behavior on the sphinx rendered scikit-learn.org. See: https://github.com/scikit-learn/scikit-learn/issues/21755 */display: inline-block !important;position: relative;}#sk-container-id-4 div.sk-text-repr-fallback {display: none;}</style><div id=\"sk-container-id-4\" class=\"sk-top-container\"><div class=\"sk-text-repr-fallback\"><pre>LogisticRegression()</pre><b>In a Jupyter environment, please rerun this cell to show the HTML representation or trust the notebook. <br />On GitHub, the HTML representation is unable to render, please try loading this page with nbviewer.org.</b></div><div class=\"sk-container\" hidden><div class=\"sk-item\"><div class=\"sk-estimator sk-toggleable\"><input class=\"sk-toggleable__control sk-hidden--visually\" id=\"sk-estimator-id-4\" type=\"checkbox\" checked><label for=\"sk-estimator-id-4\" class=\"sk-toggleable__label sk-toggleable__label-arrow\">LogisticRegression</label><div class=\"sk-toggleable__content\"><pre>LogisticRegression()</pre></div></div></div></div></div>"
      ],
      "text/plain": [
       "LogisticRegression()"
      ]
     },
     "execution_count": 327,
     "metadata": {},
     "output_type": "execute_result"
    }
   ],
   "source": [
    "model_logreg.fit(X_train_final, y_train_trimmed)"
   ]
  },
  {
   "cell_type": "markdown",
   "metadata": {},
   "source": [
    "## 8.2 - KNN Training"
   ]
  },
  {
   "cell_type": "code",
   "execution_count": 328,
   "metadata": {},
   "outputs": [
    {
     "data": {
      "text/html": [
       "<style>#sk-container-id-5 {color: black;background-color: white;}#sk-container-id-5 pre{padding: 0;}#sk-container-id-5 div.sk-toggleable {background-color: white;}#sk-container-id-5 label.sk-toggleable__label {cursor: pointer;display: block;width: 100%;margin-bottom: 0;padding: 0.3em;box-sizing: border-box;text-align: center;}#sk-container-id-5 label.sk-toggleable__label-arrow:before {content: \"▸\";float: left;margin-right: 0.25em;color: #696969;}#sk-container-id-5 label.sk-toggleable__label-arrow:hover:before {color: black;}#sk-container-id-5 div.sk-estimator:hover label.sk-toggleable__label-arrow:before {color: black;}#sk-container-id-5 div.sk-toggleable__content {max-height: 0;max-width: 0;overflow: hidden;text-align: left;background-color: #f0f8ff;}#sk-container-id-5 div.sk-toggleable__content pre {margin: 0.2em;color: black;border-radius: 0.25em;background-color: #f0f8ff;}#sk-container-id-5 input.sk-toggleable__control:checked~div.sk-toggleable__content {max-height: 200px;max-width: 100%;overflow: auto;}#sk-container-id-5 input.sk-toggleable__control:checked~label.sk-toggleable__label-arrow:before {content: \"▾\";}#sk-container-id-5 div.sk-estimator input.sk-toggleable__control:checked~label.sk-toggleable__label {background-color: #d4ebff;}#sk-container-id-5 div.sk-label input.sk-toggleable__control:checked~label.sk-toggleable__label {background-color: #d4ebff;}#sk-container-id-5 input.sk-hidden--visually {border: 0;clip: rect(1px 1px 1px 1px);clip: rect(1px, 1px, 1px, 1px);height: 1px;margin: -1px;overflow: hidden;padding: 0;position: absolute;width: 1px;}#sk-container-id-5 div.sk-estimator {font-family: monospace;background-color: #f0f8ff;border: 1px dotted black;border-radius: 0.25em;box-sizing: border-box;margin-bottom: 0.5em;}#sk-container-id-5 div.sk-estimator:hover {background-color: #d4ebff;}#sk-container-id-5 div.sk-parallel-item::after {content: \"\";width: 100%;border-bottom: 1px solid gray;flex-grow: 1;}#sk-container-id-5 div.sk-label:hover label.sk-toggleable__label {background-color: #d4ebff;}#sk-container-id-5 div.sk-serial::before {content: \"\";position: absolute;border-left: 1px solid gray;box-sizing: border-box;top: 0;bottom: 0;left: 50%;z-index: 0;}#sk-container-id-5 div.sk-serial {display: flex;flex-direction: column;align-items: center;background-color: white;padding-right: 0.2em;padding-left: 0.2em;position: relative;}#sk-container-id-5 div.sk-item {position: relative;z-index: 1;}#sk-container-id-5 div.sk-parallel {display: flex;align-items: stretch;justify-content: center;background-color: white;position: relative;}#sk-container-id-5 div.sk-item::before, #sk-container-id-5 div.sk-parallel-item::before {content: \"\";position: absolute;border-left: 1px solid gray;box-sizing: border-box;top: 0;bottom: 0;left: 50%;z-index: -1;}#sk-container-id-5 div.sk-parallel-item {display: flex;flex-direction: column;z-index: 1;position: relative;background-color: white;}#sk-container-id-5 div.sk-parallel-item:first-child::after {align-self: flex-end;width: 50%;}#sk-container-id-5 div.sk-parallel-item:last-child::after {align-self: flex-start;width: 50%;}#sk-container-id-5 div.sk-parallel-item:only-child::after {width: 0;}#sk-container-id-5 div.sk-dashed-wrapped {border: 1px dashed gray;margin: 0 0.4em 0.5em 0.4em;box-sizing: border-box;padding-bottom: 0.4em;background-color: white;}#sk-container-id-5 div.sk-label label {font-family: monospace;font-weight: bold;display: inline-block;line-height: 1.2em;}#sk-container-id-5 div.sk-label-container {text-align: center;}#sk-container-id-5 div.sk-container {/* jupyter's `normalize.less` sets `[hidden] { display: none; }` but bootstrap.min.css set `[hidden] { display: none !important; }` so we also need the `!important` here to be able to override the default hidden behavior on the sphinx rendered scikit-learn.org. See: https://github.com/scikit-learn/scikit-learn/issues/21755 */display: inline-block !important;position: relative;}#sk-container-id-5 div.sk-text-repr-fallback {display: none;}</style><div id=\"sk-container-id-5\" class=\"sk-top-container\"><div class=\"sk-text-repr-fallback\"><pre>KNeighborsClassifier(n_neighbors=3)</pre><b>In a Jupyter environment, please rerun this cell to show the HTML representation or trust the notebook. <br />On GitHub, the HTML representation is unable to render, please try loading this page with nbviewer.org.</b></div><div class=\"sk-container\" hidden><div class=\"sk-item\"><div class=\"sk-estimator sk-toggleable\"><input class=\"sk-toggleable__control sk-hidden--visually\" id=\"sk-estimator-id-5\" type=\"checkbox\" checked><label for=\"sk-estimator-id-5\" class=\"sk-toggleable__label sk-toggleable__label-arrow\">KNeighborsClassifier</label><div class=\"sk-toggleable__content\"><pre>KNeighborsClassifier(n_neighbors=3)</pre></div></div></div></div></div>"
      ],
      "text/plain": [
       "KNeighborsClassifier(n_neighbors=3)"
      ]
     },
     "execution_count": 328,
     "metadata": {},
     "output_type": "execute_result"
    }
   ],
   "source": [
    "model_knn.fit(X_train_final, y_train_trimmed)"
   ]
  },
  {
   "cell_type": "markdown",
   "metadata": {},
   "source": [
    "## 8.3 - Random Forest Training"
   ]
  },
  {
   "cell_type": "code",
   "execution_count": 329,
   "metadata": {},
   "outputs": [
    {
     "data": {
      "text/html": [
       "<style>#sk-container-id-6 {color: black;background-color: white;}#sk-container-id-6 pre{padding: 0;}#sk-container-id-6 div.sk-toggleable {background-color: white;}#sk-container-id-6 label.sk-toggleable__label {cursor: pointer;display: block;width: 100%;margin-bottom: 0;padding: 0.3em;box-sizing: border-box;text-align: center;}#sk-container-id-6 label.sk-toggleable__label-arrow:before {content: \"▸\";float: left;margin-right: 0.25em;color: #696969;}#sk-container-id-6 label.sk-toggleable__label-arrow:hover:before {color: black;}#sk-container-id-6 div.sk-estimator:hover label.sk-toggleable__label-arrow:before {color: black;}#sk-container-id-6 div.sk-toggleable__content {max-height: 0;max-width: 0;overflow: hidden;text-align: left;background-color: #f0f8ff;}#sk-container-id-6 div.sk-toggleable__content pre {margin: 0.2em;color: black;border-radius: 0.25em;background-color: #f0f8ff;}#sk-container-id-6 input.sk-toggleable__control:checked~div.sk-toggleable__content {max-height: 200px;max-width: 100%;overflow: auto;}#sk-container-id-6 input.sk-toggleable__control:checked~label.sk-toggleable__label-arrow:before {content: \"▾\";}#sk-container-id-6 div.sk-estimator input.sk-toggleable__control:checked~label.sk-toggleable__label {background-color: #d4ebff;}#sk-container-id-6 div.sk-label input.sk-toggleable__control:checked~label.sk-toggleable__label {background-color: #d4ebff;}#sk-container-id-6 input.sk-hidden--visually {border: 0;clip: rect(1px 1px 1px 1px);clip: rect(1px, 1px, 1px, 1px);height: 1px;margin: -1px;overflow: hidden;padding: 0;position: absolute;width: 1px;}#sk-container-id-6 div.sk-estimator {font-family: monospace;background-color: #f0f8ff;border: 1px dotted black;border-radius: 0.25em;box-sizing: border-box;margin-bottom: 0.5em;}#sk-container-id-6 div.sk-estimator:hover {background-color: #d4ebff;}#sk-container-id-6 div.sk-parallel-item::after {content: \"\";width: 100%;border-bottom: 1px solid gray;flex-grow: 1;}#sk-container-id-6 div.sk-label:hover label.sk-toggleable__label {background-color: #d4ebff;}#sk-container-id-6 div.sk-serial::before {content: \"\";position: absolute;border-left: 1px solid gray;box-sizing: border-box;top: 0;bottom: 0;left: 50%;z-index: 0;}#sk-container-id-6 div.sk-serial {display: flex;flex-direction: column;align-items: center;background-color: white;padding-right: 0.2em;padding-left: 0.2em;position: relative;}#sk-container-id-6 div.sk-item {position: relative;z-index: 1;}#sk-container-id-6 div.sk-parallel {display: flex;align-items: stretch;justify-content: center;background-color: white;position: relative;}#sk-container-id-6 div.sk-item::before, #sk-container-id-6 div.sk-parallel-item::before {content: \"\";position: absolute;border-left: 1px solid gray;box-sizing: border-box;top: 0;bottom: 0;left: 50%;z-index: -1;}#sk-container-id-6 div.sk-parallel-item {display: flex;flex-direction: column;z-index: 1;position: relative;background-color: white;}#sk-container-id-6 div.sk-parallel-item:first-child::after {align-self: flex-end;width: 50%;}#sk-container-id-6 div.sk-parallel-item:last-child::after {align-self: flex-start;width: 50%;}#sk-container-id-6 div.sk-parallel-item:only-child::after {width: 0;}#sk-container-id-6 div.sk-dashed-wrapped {border: 1px dashed gray;margin: 0 0.4em 0.5em 0.4em;box-sizing: border-box;padding-bottom: 0.4em;background-color: white;}#sk-container-id-6 div.sk-label label {font-family: monospace;font-weight: bold;display: inline-block;line-height: 1.2em;}#sk-container-id-6 div.sk-label-container {text-align: center;}#sk-container-id-6 div.sk-container {/* jupyter's `normalize.less` sets `[hidden] { display: none; }` but bootstrap.min.css set `[hidden] { display: none !important; }` so we also need the `!important` here to be able to override the default hidden behavior on the sphinx rendered scikit-learn.org. See: https://github.com/scikit-learn/scikit-learn/issues/21755 */display: inline-block !important;position: relative;}#sk-container-id-6 div.sk-text-repr-fallback {display: none;}</style><div id=\"sk-container-id-6\" class=\"sk-top-container\"><div class=\"sk-text-repr-fallback\"><pre>RandomForestClassifier()</pre><b>In a Jupyter environment, please rerun this cell to show the HTML representation or trust the notebook. <br />On GitHub, the HTML representation is unable to render, please try loading this page with nbviewer.org.</b></div><div class=\"sk-container\" hidden><div class=\"sk-item\"><div class=\"sk-estimator sk-toggleable\"><input class=\"sk-toggleable__control sk-hidden--visually\" id=\"sk-estimator-id-6\" type=\"checkbox\" checked><label for=\"sk-estimator-id-6\" class=\"sk-toggleable__label sk-toggleable__label-arrow\">RandomForestClassifier</label><div class=\"sk-toggleable__content\"><pre>RandomForestClassifier()</pre></div></div></div></div></div>"
      ],
      "text/plain": [
       "RandomForestClassifier()"
      ]
     },
     "execution_count": 329,
     "metadata": {},
     "output_type": "execute_result"
    }
   ],
   "source": [
    "model_rf.fit(X_train_final, y_train_trimmed)"
   ]
  },
  {
   "cell_type": "markdown",
   "metadata": {},
   "source": [
    "# 9 - Model Evaluation"
   ]
  },
  {
   "cell_type": "markdown",
   "metadata": {},
   "source": [
    "## 9.1 - Logistic Regression"
   ]
  },
  {
   "cell_type": "code",
   "execution_count": 330,
   "metadata": {},
   "outputs": [
    {
     "name": "stdout",
     "output_type": "stream",
     "text": [
      "              precision    recall  f1-score   support\n",
      "\n",
      "           0       0.78      0.22      0.35     43274\n",
      "           1       0.90      0.99      0.95    318830\n",
      "\n",
      "    accuracy                           0.90    362104\n",
      "   macro avg       0.84      0.61      0.65    362104\n",
      "weighted avg       0.89      0.90      0.87    362104\n",
      "\n",
      "              precision    recall  f1-score   support\n",
      "\n",
      "           0       0.77      0.23      0.35     11020\n",
      "           1       0.91      0.99      0.95     82196\n",
      "\n",
      "    accuracy                           0.90     93216\n",
      "   macro avg       0.84      0.61      0.65     93216\n",
      "weighted avg       0.89      0.90      0.88     93216\n",
      "\n",
      "Precision Score Train - LogReg :  0.9039332286455518\n",
      "Precision Score Test - LogReg :  0.9053013039273446\n"
     ]
    }
   ],
   "source": [
    "# Predict Train and test set\n",
    "y_pred_train_lg = model_logreg.predict(X_train_final)\n",
    "y_pred_test_lg = model_logreg.predict(X_test_final)\n",
    "\n",
    "print(classification_report(y_train_trimmed, y_pred_train_lg))\n",
    "print(classification_report(y_test, y_pred_test_lg))\n",
    "print('Precision Score Train - LogReg : ', precision_score(y_train_trimmed, y_pred_train_lg))\n",
    "print('Precision Score Test - LogReg : ', precision_score(y_test, y_pred_test_lg))"
   ]
  },
  {
   "cell_type": "code",
   "execution_count": 331,
   "metadata": {},
   "outputs": [
    {
     "data": {
      "text/plain": [
       "<sklearn.metrics._plot.confusion_matrix.ConfusionMatrixDisplay at 0x2976c71d650>"
      ]
     },
     "execution_count": 331,
     "metadata": {},
     "output_type": "execute_result"
    },
    {
     "data": {
      "image/png": "[encoded data removed]",
      "text/plain": [
       "<Figure size 640x480 with 2 Axes>"
      ]
     },
     "metadata": {},
     "output_type": "display_data"
    }
   ],
   "source": [
    "cm_train = confusion_matrix(y_train_trimmed, y_pred_train_lg)\n",
    "ConfusionMatrixDisplay(cm_train).plot()"
   ]
  },
  {
   "cell_type": "markdown",
   "metadata": {},
   "source": [
    "Using Logistic Regression with default parameter we got Precision Score 0.9 for train set and 0.9 for test set. This is a good result considering we are using default parameter. Let's check using Cross Validation if this model is good or just coincidence."
   ]
  },
  {
   "cell_type": "code",
   "execution_count": 377,
   "metadata": {},
   "outputs": [
    {
     "name": "stdout",
     "output_type": "stream",
     "text": [
      "Precision Train - All - Cross Validation  :  [0.90349085 0.90339926 0.90416327 0.90438663 0.90411351]\n",
      "Precision Train - Mean - Cross Validation :  0.9039107037150987\n"
     ]
    }
   ],
   "source": [
    "precision_train_cross_val = cross_val_score(model_logreg, X_train_final, y_train_trimmed, cv=5, scoring=\"precision\")\n",
    "print('Precision Train - All - Cross Validation  : ', precision_train_cross_val)\n",
    "print('Precision Train - Mean - Cross Validation : ', precision_train_cross_val.mean())"
   ]
  },
  {
   "cell_type": "markdown",
   "metadata": {},
   "source": [
    "Check result using cross validation mean give almost the same value as train-set prediction rate. About 0.9, so it's not coincidence the model is good."
   ]
  },
  {
   "cell_type": "markdown",
   "metadata": {},
   "source": [
    "## 9.2 - KNN"
   ]
  },
  {
   "cell_type": "code",
   "execution_count": 332,
   "metadata": {},
   "outputs": [
    {
     "name": "stdout",
     "output_type": "stream",
     "text": [
      "              precision    recall  f1-score   support\n",
      "\n",
      "           0       0.85      0.52      0.65     43274\n",
      "           1       0.94      0.99      0.96    318830\n",
      "\n",
      "    accuracy                           0.93    362104\n",
      "   macro avg       0.90      0.76      0.81    362104\n",
      "weighted avg       0.93      0.93      0.92    362104\n",
      "\n",
      "              precision    recall  f1-score   support\n",
      "\n",
      "           0       0.58      0.31      0.40     11020\n",
      "           1       0.91      0.97      0.94     82196\n",
      "\n",
      "    accuracy                           0.89     93216\n",
      "   macro avg       0.74      0.64      0.67     93216\n",
      "weighted avg       0.87      0.89      0.88     93216\n",
      "\n",
      "Precision - KNN :  0.9384779505761546\n",
      "Precision - KNN :  0.9126432570440677\n"
     ]
    }
   ],
   "source": [
    "# Predict Train and test set\n",
    "y_pred_train_knn = model_knn.predict(X_train_final)\n",
    "y_pred_test_knn = model_knn.predict(X_test_final)\n",
    "\n",
    "print(classification_report(y_train_trimmed, y_pred_train_knn))\n",
    "print(classification_report(y_test, y_pred_test_knn))\n",
    "print('Precision - KNN : ', precision_score(y_train_trimmed, y_pred_train_knn))\n",
    "print('Precision - KNN : ', precision_score(y_test, y_pred_test_knn))"
   ]
  },
  {
   "cell_type": "code",
   "execution_count": 333,
   "metadata": {},
   "outputs": [
    {
     "data": {
      "text/plain": [
       "<sklearn.metrics._plot.confusion_matrix.ConfusionMatrixDisplay at 0x2978162cfd0>"
      ]
     },
     "execution_count": 333,
     "metadata": {},
     "output_type": "execute_result"
    },
    {
     "data": {
      "image/png": "[encoded data removed]",
      "text/plain": [
       "<Figure size 640x480 with 2 Axes>"
      ]
     },
     "metadata": {},
     "output_type": "display_data"
    }
   ],
   "source": [
    "cm_train = confusion_matrix(y_train_trimmed, y_pred_train_knn)\n",
    "ConfusionMatrixDisplay(cm_train).plot()"
   ]
  },
  {
   "cell_type": "markdown",
   "metadata": {},
   "source": [
    "Using KNN algorithm with default parameter we got Precision Score 0.93 for train set and 0.91 for test set. This is even a better result than previous model Logistic Regression. Let's check using Cross Validation if this model is good or just coincidence."
   ]
  },
  {
   "cell_type": "code",
   "execution_count": 378,
   "metadata": {},
   "outputs": [
    {
     "name": "stdout",
     "output_type": "stream",
     "text": [
      "Precision Train - All - Cross Validation  :  [0.9104671  0.91060267 0.91139577 0.9104537  0.91136591]\n",
      "Precision Train - Mean - Cross Validation :  0.9108570301587464\n"
     ]
    }
   ],
   "source": [
    "precision_train_cross_val = cross_val_score(model_knn, X_train_final, y_train_trimmed, cv=5, scoring=\"precision\")\n",
    "print('Precision Train - All - Cross Validation  : ', precision_train_cross_val)\n",
    "print('Precision Train - Mean - Cross Validation : ', precision_train_cross_val.mean())"
   ]
  },
  {
   "cell_type": "markdown",
   "metadata": {},
   "source": [
    "Check result using cross validation mean give almost the same value as test-set prediction rate. About 0.91, so it's not coincidence the model is good."
   ]
  },
  {
   "cell_type": "markdown",
   "metadata": {},
   "source": [
    "## 9.3 - Random Forest"
   ]
  },
  {
   "cell_type": "code",
   "execution_count": 334,
   "metadata": {},
   "outputs": [
    {
     "name": "stdout",
     "output_type": "stream",
     "text": [
      "              precision    recall  f1-score   support\n",
      "\n",
      "           0       1.00      1.00      1.00     43274\n",
      "           1       1.00      1.00      1.00    318830\n",
      "\n",
      "    accuracy                           1.00    362104\n",
      "   macro avg       1.00      1.00      1.00    362104\n",
      "weighted avg       1.00      1.00      1.00    362104\n",
      "\n",
      "              precision    recall  f1-score   support\n",
      "\n",
      "           0       0.95      0.53      0.68     11020\n",
      "           1       0.94      1.00      0.97     82196\n",
      "\n",
      "    accuracy                           0.94     93216\n",
      "   macro avg       0.95      0.77      0.83     93216\n",
      "weighted avg       0.94      0.94      0.93     93216\n",
      "\n",
      "Precision - RF :  0.999978045208053\n",
      "Precision - RF :  0.9409723817839254\n"
     ]
    }
   ],
   "source": [
    "y_pred_train_rf = model_rf.predict(X_train_final)\n",
    "y_pred_test_rf = model_rf.predict(X_test_final)\n",
    "\n",
    "print(classification_report(y_train_trimmed, y_pred_train_rf))\n",
    "print(classification_report(y_test, y_pred_test_rf))\n",
    "print('Precision - RF : ', precision_score(y_train_trimmed, y_pred_train_rf))\n",
    "print('Precision - RF : ', precision_score(y_test, y_pred_test_rf))"
   ]
  },
  {
   "cell_type": "code",
   "execution_count": 335,
   "metadata": {},
   "outputs": [
    {
     "data": {
      "text/plain": [
       "<sklearn.metrics._plot.confusion_matrix.ConfusionMatrixDisplay at 0x29781607450>"
      ]
     },
     "execution_count": 335,
     "metadata": {},
     "output_type": "execute_result"
    },
    {
     "data": {
      "image/png": "[encoded data removed]",
      "text/plain": [
       "<Figure size 640x480 with 2 Axes>"
      ]
     },
     "metadata": {},
     "output_type": "display_data"
    }
   ],
   "source": [
    "cm_train = confusion_matrix(y_train_trimmed, y_pred_train_rf)\n",
    "ConfusionMatrixDisplay(cm_train).plot()"
   ]
  },
  {
   "cell_type": "markdown",
   "metadata": {},
   "source": [
    "Using Random Forest algorithm with default parameter we got Precision Score 0.99 for train set and 0.94 for test set. This is the best result of all models. With almost 100% precision score on train-set and 94% on test-set this model considered as `Good Fit`. Let's check using Cross Validation if this model is really good or just coincidence."
   ]
  },
  {
   "cell_type": "code",
   "execution_count": 379,
   "metadata": {},
   "outputs": [
    {
     "name": "stdout",
     "output_type": "stream",
     "text": [
      "Precision Train - All - Cross Validation  :  [0.93904528 0.9396121  0.93972271 0.93973251 0.93952346]\n",
      "Precision Train - Mean - Cross Validation :  0.9395272118322506\n"
     ]
    }
   ],
   "source": [
    "precision_train_cross_val = cross_val_score(model_rf, X_train_final, y_train_trimmed, cv=5, scoring=\"precision\")\n",
    "print('Precision Train - All - Cross Validation  : ', precision_train_cross_val)\n",
    "print('Precision Train - Mean - Cross Validation : ', precision_train_cross_val.mean())"
   ]
  },
  {
   "cell_type": "markdown",
   "metadata": {},
   "source": [
    "Check result using cross validation mean give almost the same value as train-set prediction rate. About 0.93, so it's not coincidence the model is very good."
   ]
  },
  {
   "cell_type": "markdown",
   "metadata": {},
   "source": [
    "# 10 - Model Analysis"
   ]
  },
  {
   "cell_type": "markdown",
   "metadata": {},
   "source": [
    "- To analyze this model, we use `Precision` metrics because we want to `minimalize False Positive`. In this case `False Positive` is customer whose actually Bad or Negative but predicted as Good Customer or Positive.\n",
    " \n",
    "- Why is it better to minimalize False Positive, because for this Loan Case, it is `better if the Bank reject good customer` rather than `provide loan to a bad customer who have no intention or unable to pay`.\n",
    " \n",
    "- From all the three model we tried as baseline, `Random Forest` model give us the best result compared to `Logistic Regression` and `KNN` with precision score 0.99 on train-set and 0.94 on test-set.\n",
    " \n",
    "- After performing Cross Validation check on `Random Forest` model we still get very good result for the model which mean it's `not a coincidence` this model have a very good result."
   ]
  },
  {
   "cell_type": "markdown",
   "metadata": {},
   "source": [
    "# 11 - Conclusion"
   ]
  },
  {
   "cell_type": "markdown",
   "metadata": {},
   "source": [
    "- Based on the EDA we know that this dataset is having imbalance data. This imbalance data sometimes can affect model result. For a better result this needs to be handled. Technique like SMOTE can be used to handle imbalance dataset.\n",
    " \n",
    "- Based on the model evaluation, out of 3 model we tried, the best model is `Random Forest`. This model give 99% Precision score which mean it can correctly predict 99 out of 100 data.\n",
    "\n",
    "- This `Random Forest` weakness is even with 99% precision score on train-set, when we check using cross validation and get the average result from it, we only get about 93% to 94% of precision score. So this is probably the real result. But it's still very good result.\n",
    "\n",
    "- For next improvement, we can try to oversampling the data using SMOTE technique so the data is more balanced and has a possibility to improve the result.\n",
    "\n",
    "- For more improvement, we can also try to do hyperparameter tuning for our best model `Random Forest`. Considering this result is a result of default parameter, so with hyperparameter tuning we might be able to improve it even better."
   ]
  }
 ],
 "metadata": {
  "kernelspec": {
   "display_name": "base",
   "language": "python",
   "name": "python3"
  },
  "language_info": {
   "codemirror_mode": {
    "name": "ipython",
    "version": 3
   },
   "file_extension": ".py",
   "mimetype": "text/x-python",
   "name": "python",
   "nbconvert_exporter": "python",
   "pygments_lexer": "ipython3",
   "version": "3.11.4"
  }
 },
 "nbformat": 4,
 "nbformat_minor": 2
}
